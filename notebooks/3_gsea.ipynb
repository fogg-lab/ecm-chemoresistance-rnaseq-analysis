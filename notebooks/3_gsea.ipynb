{
 "cells": [
  {
   "cell_type": "code",
   "execution_count": 2,
   "metadata": {},
   "outputs": [],
   "source": [
    "import shutil\n",
    "from pathlib import Path\n",
    "import pandas as pd\n",
    "import networkx as nx\n",
    "import plotly.graph_objects as go\n",
    "import numpy as np\n",
    "import plotly.io as pio\n",
    "from rpy2 import robjects\n",
    "\n",
    "from src.visualization import graph"
   ]
  },
  {
   "cell_type": "code",
   "execution_count": 3,
   "metadata": {},
   "outputs": [],
   "source": [
    "### Constants\n",
    "\n",
    "COHORT = \"CESC\"\n",
    "RAW_DATA_DIR = Path(\"../data/raw\")\n",
    "assert RAW_DATA_DIR.exists()\n",
    "INTERIM_DATA_DIR = Path(\"../data/interim/TCGA\")\n",
    "COUNTS_FILE = INTERIM_DATA_DIR / f\"counts/{COHORT}.csv.gz\"\n",
    "if not COUNTS_FILE.exists():\n",
    "    raise FileNotFoundError(\n",
    "        f\"{COUNTS_FILE} does not exist. Run `0_preprocess_and_label.ipynb` first.\"\n",
    "    )\n",
    "COLDATA_FILE = INTERIM_DATA_DIR / f\"coldata/{COHORT}.csv\"\n",
    "assert COLDATA_FILE.exists()\n",
    "FIGURES_DIR = Path(\"../reports/figures\")\n",
    "assert FIGURES_DIR.exists()\n",
    "DE_DIR = INTERIM_DATA_DIR / \"de\"\n",
    "assert DE_DIR.exists()\n",
    "DE_RESULTS_FILE = DE_DIR / f\"DE_results_{COHORT}.csv\"\n",
    "assert DE_RESULTS_FILE.exists()\n",
    "GSEA_DIR = INTERIM_DATA_DIR / \"gsea\"\n",
    "GSEA_DIR.mkdir(exist_ok=True)"
   ]
  },
  {
   "cell_type": "code",
   "execution_count": 5,
   "metadata": {},
   "outputs": [
    {
     "name": "stdout",
     "output_type": "stream",
     "text": [
      "\n",
      "    WARNING: The R package \"reticulate\" only fixed recently\n",
      "    an issue that caused a segfault when used with rpy2:\n",
      "    https://github.com/rstudio/reticulate/pull/1188\n",
      "    Make sure that you use a version of that package that includes\n",
      "    the fix.\n",
      "    "
     ]
    },
    {
     "name": "stderr",
     "output_type": "stream",
     "text": [
      "R[write to console]: In addition: \n",
      "R[write to console]: Warning messages:\n",
      "\n",
      "R[write to console]: 1: replacing previous import ‘data.table::last’ by ‘dplyr::last’ when loading ‘src’ \n",
      "\n",
      "R[write to console]: 2: replacing previous import ‘data.table::first’ by ‘dplyr::first’ when loading ‘src’ \n",
      "\n",
      "R[write to console]: 3: replacing previous import ‘data.table::between’ by ‘dplyr::between’ when loading ‘src’ \n",
      "\n",
      "R[write to console]: 4: replacing previous import ‘dplyr::select’ by ‘AnnotationDbi::select’ when loading ‘src’ \n",
      "\n",
      "R[write to console]: 5: replacing previous import ‘AnnotationDbi::select’ by ‘clusterProfiler::select’ when loading ‘src’ \n",
      "\n",
      "R[write to console]: 6: replacing previous import ‘ggplot2::last_plot’ by ‘plotly::last_plot’ when loading ‘src’ \n",
      "\n",
      "R[write to console]: 7: replacing previous import ‘ggpubr::color_palette’ by ‘enrichplot::color_palette’ when loading ‘src’ \n",
      "\n"
     ]
    },
    {
     "name": "stdout",
     "output_type": "stream",
     "text": [
      "Processing: CESC \n"
     ]
    },
    {
     "name": "stderr",
     "output_type": "stream",
     "text": [
      "R[write to console]: 'select()' returned 1:many mapping between keys and columns\n",
      "\n",
      "R[write to console]: preparing geneSet collections...\n",
      "\n",
      "R[write to console]: GSEA analysis...\n",
      "\n",
      "R[write to console]: leading edge analysis...\n",
      "\n",
      "R[write to console]: done...\n",
      "\n",
      "R[write to console]: preparing gene to GO mapping data...\n",
      "\n",
      "R[write to console]: preparing IC data...\n",
      "\n",
      "R[write to console]: 'select()' returned 1:1 mapping between keys and columns\n",
      "\n",
      "R[write to console]: 'select()' returned 1:1 mapping between keys and columns\n",
      "\n",
      "R[write to console]: 'select()' returned 1:1 mapping between keys and columns\n",
      "\n",
      "R[write to console]: 'select()' returned 1:1 mapping between keys and columns\n",
      "\n",
      "R[write to console]: 'select()' returned 1:1 mapping between keys and columns\n",
      "\n",
      "R[write to console]: 'select()' returned 1:1 mapping between keys and columns\n",
      "\n",
      "R[write to console]: 'select()' returned 1:1 mapping between keys and columns\n",
      "\n",
      "R[write to console]: 'select()' returned 1:1 mapping between keys and columns\n",
      "\n",
      "R[write to console]: 'select()' returned 1:1 mapping between keys and columns\n",
      "\n",
      "R[write to console]: 'select()' returned 1:1 mapping between keys and columns\n",
      "\n",
      "R[write to console]: 'select()' returned 1:1 mapping between keys and columns\n",
      "\n",
      "R[write to console]: 'select()' returned 1:1 mapping between keys and columns\n",
      "\n",
      "R[write to console]: 'select()' returned 1:1 mapping between keys and columns\n",
      "\n",
      "R[write to console]: 'select()' returned 1:1 mapping between keys and columns\n",
      "\n",
      "R[write to console]: 'select()' returned 1:many mapping between keys and columns\n",
      "\n",
      "R[write to console]: 'select()' returned 1:many mapping between keys and columns\n",
      "\n",
      "R[write to console]: 'select()' returned 1:many mapping between keys and columns\n",
      "\n",
      "R[write to console]: 'select()' returned 1:many mapping between keys and columns\n",
      "\n",
      "R[write to console]: 'select()' returned 1:many mapping between keys and columns\n",
      "\n",
      "R[write to console]: 'select()' returned 1:many mapping between keys and columns\n",
      "\n",
      "R[write to console]: 'select()' returned 1:many mapping between keys and columns\n",
      "\n",
      "R[write to console]: 'select()' returned 1:many mapping between keys and columns\n",
      "\n",
      "R[write to console]: 'select()' returned 1:many mapping between keys and columns\n",
      "\n",
      "R[write to console]: 'select()' returned 1:many mapping between keys and columns\n",
      "\n",
      "R[write to console]: 'select()' returned 1:many mapping between keys and columns\n",
      "\n",
      "R[write to console]: 'select()' returned 1:many mapping between keys and columns\n",
      "\n",
      "R[write to console]: 'select()' returned 1:1 mapping between keys and columns\n",
      "\n",
      "R[write to console]: 'select()' returned 1:1 mapping between keys and columns\n",
      "\n"
     ]
    },
    {
     "name": "stdout",
     "output_type": "stream",
     "text": [
      "Saving 7 x 7 in image\n"
     ]
    },
    {
     "data": {
      "text/plain": [
       "<rpy2.rinterface_lib.sexp.NULLType object at 0x7fec33be3150> [0]"
      ]
     },
     "execution_count": 5,
     "metadata": {},
     "output_type": "execute_result"
    }
   ],
   "source": [
    "robjects.r('suppressPackageStartupMessages(library(\"src\"))')\n",
    "gsea = robjects.r[\"gsea_go\"]\n",
    "de_file = str(DE_RESULTS_FILE)\n",
    "gsea_dir = str(GSEA_DIR)\n",
    "gsea(de_file, gsea_dir)"
   ]
  },
  {
   "cell_type": "code",
   "execution_count": 6,
   "metadata": {},
   "outputs": [],
   "source": [
    "# Copy output_dir/*.png to FIGURES_DIR\n",
    "for png in GSEA_DIR.glob(\"*.png\"):\n",
    "    shutil.copy(png, FIGURES_DIR)"
   ]
  },
  {
   "cell_type": "markdown",
   "metadata": {},
   "source": [
    "## Gene-concept network"
   ]
  },
  {
   "cell_type": "code",
   "execution_count": 4,
   "metadata": {},
   "outputs": [
    {
     "data": {
      "application/vnd.plotly.v1+json": {
       "config": {
        "plotlyServerURL": "https://plot.ly"
       },
       "data": [
        {
         "hoverinfo": "none",
         "line": {
          "color": "rgb(217, 163, 130)",
          "width": 0.5
         },
         "mode": "lines",
         "showlegend": false,
         "type": "scatter",
         "x": [
          -0.2707297863842883,
          -0.18684790560215211,
          null
         ],
         "y": [
          0.1682354611726609,
          0.30798008182795145,
          null
         ]
        },
        {
         "hoverinfo": "none",
         "line": {
          "color": "rgb(217, 163, 130)",
          "width": 0.5
         },
         "mode": "lines",
         "showlegend": false,
         "type": "scatter",
         "x": [
          -0.2707297863842883,
          -0.40053216919286744,
          null
         ],
         "y": [
          0.1682354611726609,
          0.24660569343469063,
          null
         ]
        },
        {
         "hoverinfo": "none",
         "line": {
          "color": "rgb(217, 163, 130)",
          "width": 0.5
         },
         "mode": "lines",
         "showlegend": false,
         "type": "scatter",
         "x": [
          -0.2707297863842883,
          -0.27870173626851297,
          null
         ],
         "y": [
          0.1682354611726609,
          0.07579544952194729,
          null
         ]
        },
        {
         "hoverinfo": "none",
         "line": {
          "color": "rgb(217, 163, 130)",
          "width": 0.5
         },
         "mode": "lines",
         "showlegend": false,
         "type": "scatter",
         "x": [
          -0.2707297863842883,
          -0.1824664004500479,
          null
         ],
         "y": [
          0.1682354611726609,
          0.33763157802763183,
          null
         ]
        },
        {
         "hoverinfo": "none",
         "line": {
          "color": "rgb(217, 163, 130)",
          "width": 0.5
         },
         "mode": "lines",
         "showlegend": false,
         "type": "scatter",
         "x": [
          -0.2707297863842883,
          -0.24548505112958316,
          null
         ],
         "y": [
          0.1682354611726609,
          0.35578145053028176,
          null
         ]
        },
        {
         "hoverinfo": "none",
         "line": {
          "color": "rgb(217, 163, 130)",
          "width": 0.5
         },
         "mode": "lines",
         "showlegend": false,
         "type": "scatter",
         "x": [
          -0.2707297863842883,
          -0.45210779515628435,
          null
         ],
         "y": [
          0.1682354611726609,
          0.13362814534412695,
          null
         ]
        },
        {
         "hoverinfo": "none",
         "line": {
          "color": "rgb(217, 163, 130)",
          "width": 0.5
         },
         "mode": "lines",
         "showlegend": false,
         "type": "scatter",
         "x": [
          -0.2707297863842883,
          -0.15215648845848878,
          null
         ],
         "y": [
          0.1682354611726609,
          0.22909408607143344,
          null
         ]
        },
        {
         "hoverinfo": "none",
         "line": {
          "color": "rgb(217, 163, 130)",
          "width": 0.5
         },
         "mode": "lines",
         "showlegend": false,
         "type": "scatter",
         "x": [
          -0.2707297863842883,
          -0.4311348725259209,
          null
         ],
         "y": [
          0.1682354611726609,
          0.1960815151656949,
          null
         ]
        },
        {
         "hoverinfo": "none",
         "line": {
          "color": "rgb(217, 163, 130)",
          "width": 0.5
         },
         "mode": "lines",
         "showlegend": false,
         "type": "scatter",
         "x": [
          -0.2707297863842883,
          -0.12051772694277374,
          null
         ],
         "y": [
          0.1682354611726609,
          0.29262687185265296,
          null
         ]
        },
        {
         "hoverinfo": "none",
         "line": {
          "color": "rgb(217, 163, 130)",
          "width": 0.5
         },
         "mode": "lines",
         "showlegend": false,
         "type": "scatter",
         "x": [
          -0.2707297863842883,
          -0.3435844443824219,
          null
         ],
         "y": [
          0.1682354611726609,
          -0.007991302604370613,
          null
         ]
        },
        {
         "hoverinfo": "none",
         "line": {
          "color": "rgb(217, 163, 130)",
          "width": 0.5
         },
         "mode": "lines",
         "showlegend": false,
         "type": "scatter",
         "x": [
          -0.2707297863842883,
          -0.11762129127461363,
          null
         ],
         "y": [
          0.1682354611726609,
          0.20997168050577852,
          null
         ]
        },
        {
         "hoverinfo": "none",
         "line": {
          "color": "rgb(217, 163, 130)",
          "width": 0.5
         },
         "mode": "lines",
         "showlegend": false,
         "type": "scatter",
         "x": [
          -0.2707297863842883,
          -0.16781425093906577,
          null
         ],
         "y": [
          0.1682354611726609,
          0.2941334793242913,
          null
         ]
        },
        {
         "hoverinfo": "none",
         "line": {
          "color": "rgb(217, 163, 130)",
          "width": 0.5
         },
         "mode": "lines",
         "showlegend": false,
         "type": "scatter",
         "x": [
          -0.2707297863842883,
          -0.15988552527642616,
          null
         ],
         "y": [
          0.1682354611726609,
          0.3135342343994817,
          null
         ]
        },
        {
         "hoverinfo": "none",
         "line": {
          "color": "rgb(217, 163, 130)",
          "width": 0.5
         },
         "mode": "lines",
         "showlegend": false,
         "type": "scatter",
         "x": [
          -0.2707297863842883,
          -0.29109814915171517,
          null
         ],
         "y": [
          0.1682354611726609,
          -0.03606538644376414,
          null
         ]
        },
        {
         "hoverinfo": "none",
         "line": {
          "color": "rgb(217, 163, 130)",
          "width": 0.5
         },
         "mode": "lines",
         "showlegend": false,
         "type": "scatter",
         "x": [
          -0.2707297863842883,
          -0.26010020957753394,
          null
         ],
         "y": [
          0.1682354611726609,
          0.01750260179279251,
          null
         ]
        },
        {
         "hoverinfo": "none",
         "line": {
          "color": "rgb(217, 163, 130)",
          "width": 0.5
         },
         "mode": "lines",
         "showlegend": false,
         "type": "scatter",
         "x": [
          -0.2707297863842883,
          -0.4454930481106314,
          null
         ],
         "y": [
          0.1682354611726609,
          0.1639737589773118,
          null
         ]
        },
        {
         "hoverinfo": "none",
         "line": {
          "color": "rgb(217, 163, 130)",
          "width": 0.5
         },
         "mode": "lines",
         "showlegend": false,
         "type": "scatter",
         "x": [
          -0.2707297863842883,
          -0.1406624980837648,
          null
         ],
         "y": [
          0.1682354611726609,
          0.14529639114180304,
          null
         ]
        },
        {
         "hoverinfo": "none",
         "line": {
          "color": "rgb(217, 163, 130)",
          "width": 0.5
         },
         "mode": "lines",
         "showlegend": false,
         "type": "scatter",
         "x": [
          -0.2707297863842883,
          -0.12141940784505686,
          null
         ],
         "y": [
          0.1682354611726609,
          0.2658529333635812,
          null
         ]
        },
        {
         "hoverinfo": "none",
         "line": {
          "color": "rgb(217, 163, 130)",
          "width": 0.5
         },
         "mode": "lines",
         "showlegend": false,
         "type": "scatter",
         "x": [
          -0.2707297863842883,
          -0.42014610443116823,
          null
         ],
         "y": [
          0.1682354611726609,
          0.2269699398762049,
          null
         ]
        },
        {
         "hoverinfo": "none",
         "line": {
          "color": "rgb(217, 163, 130)",
          "width": 0.5
         },
         "mode": "lines",
         "showlegend": false,
         "type": "scatter",
         "x": [
          -0.2707297863842883,
          -0.2879532874035709,
          null
         ],
         "y": [
          0.1682354611726609,
          -0.006448744289746738,
          null
         ]
        },
        {
         "hoverinfo": "none",
         "line": {
          "color": "rgb(217, 163, 130)",
          "width": 0.5
         },
         "mode": "lines",
         "showlegend": false,
         "type": "scatter",
         "x": [
          -0.2707297863842883,
          -0.26490949631413124,
          null
         ],
         "y": [
          0.1682354611726609,
          0.3426266517736249,
          null
         ]
        },
        {
         "hoverinfo": "none",
         "line": {
          "color": "rgb(217, 163, 130)",
          "width": 0.5
         },
         "mode": "lines",
         "showlegend": false,
         "type": "scatter",
         "x": [
          -0.2707297863842883,
          -0.3875064731699007,
          null
         ],
         "y": [
          0.1682354611726609,
          0.04474795316004297,
          null
         ]
        },
        {
         "hoverinfo": "none",
         "line": {
          "color": "rgb(217, 163, 130)",
          "width": 0.5
         },
         "mode": "lines",
         "showlegend": false,
         "type": "scatter",
         "x": [
          -0.2707297863842883,
          -0.22541393628156886,
          null
         ],
         "y": [
          0.1682354611726609,
          0.09472474638835705,
          null
         ]
        },
        {
         "hoverinfo": "none",
         "line": {
          "color": "rgb(217, 163, 130)",
          "width": 0.5
         },
         "mode": "lines",
         "showlegend": false,
         "type": "scatter",
         "x": [
          -0.2707297863842883,
          -0.21233015833036303,
          null
         ],
         "y": [
          0.1682354611726609,
          0.05660101591722757,
          null
         ]
        },
        {
         "hoverinfo": "none",
         "line": {
          "color": "rgb(217, 163, 130)",
          "width": 0.5
         },
         "mode": "lines",
         "showlegend": false,
         "type": "scatter",
         "x": [
          -0.2707297863842883,
          -0.1373528495746465,
          null
         ],
         "y": [
          0.1682354611726609,
          0.19378208583618042,
          null
         ]
        },
        {
         "hoverinfo": "none",
         "line": {
          "color": "rgb(217, 163, 130)",
          "width": 0.5
         },
         "mode": "lines",
         "showlegend": false,
         "type": "scatter",
         "x": [
          -0.2707297863842883,
          -0.3984695067031723,
          null
         ],
         "y": [
          0.1682354611726609,
          0.16941206785996682,
          null
         ]
        },
        {
         "hoverinfo": "none",
         "line": {
          "color": "rgb(217, 163, 130)",
          "width": 0.5
         },
         "mode": "lines",
         "showlegend": false,
         "type": "scatter",
         "x": [
          -0.2707297863842883,
          -0.41755477908670546,
          null
         ],
         "y": [
          0.1682354611726609,
          0.035026605787131876,
          null
         ]
        },
        {
         "hoverinfo": "none",
         "line": {
          "color": "rgb(217, 163, 130)",
          "width": 0.5
         },
         "mode": "lines",
         "showlegend": false,
         "type": "scatter",
         "x": [
          -0.2707297863842883,
          -0.10632977568957214,
          null
         ],
         "y": [
          0.1682354611726609,
          0.27722134736822235,
          null
         ]
        },
        {
         "hoverinfo": "none",
         "line": {
          "color": "rgb(217, 163, 130)",
          "width": 0.5
         },
         "mode": "lines",
         "showlegend": false,
         "type": "scatter",
         "x": [
          -0.2707297863842883,
          -0.24206374435394526,
          null
         ],
         "y": [
          0.1682354611726609,
          -0.01743336402780459,
          null
         ]
        },
        {
         "hoverinfo": "none",
         "line": {
          "color": "rgb(217, 163, 130)",
          "width": 0.5
         },
         "mode": "lines",
         "showlegend": false,
         "type": "scatter",
         "x": [
          -0.2707297863842883,
          -0.39982705760631804,
          null
         ],
         "y": [
          0.1682354611726609,
          0.13426550044762117,
          null
         ]
        },
        {
         "hoverinfo": "none",
         "line": {
          "color": "rgb(217, 163, 130)",
          "width": 0.5
         },
         "mode": "lines",
         "showlegend": false,
         "type": "scatter",
         "x": [
          -0.2707297863842883,
          -0.3834273630711129,
          null
         ],
         "y": [
          0.1682354611726609,
          0.09908455346961569,
          null
         ]
        },
        {
         "hoverinfo": "none",
         "line": {
          "color": "rgb(217, 163, 130)",
          "width": 0.5
         },
         "mode": "lines",
         "showlegend": false,
         "type": "scatter",
         "x": [
          -0.2707297863842883,
          -0.13811070360570055,
          null
         ],
         "y": [
          0.1682354611726609,
          0.23053351208638526,
          null
         ]
        },
        {
         "hoverinfo": "none",
         "line": {
          "color": "rgb(217, 163, 130)",
          "width": 0.5
         },
         "mode": "lines",
         "showlegend": false,
         "type": "scatter",
         "x": [
          -0.2707297863842883,
          -0.24419711091855187,
          null
         ],
         "y": [
          0.1682354611726609,
          0.32429583507044124,
          null
         ]
        },
        {
         "hoverinfo": "none",
         "line": {
          "color": "rgb(217, 163, 130)",
          "width": 0.5
         },
         "mode": "lines",
         "showlegend": false,
         "type": "scatter",
         "x": [
          -0.2707297863842883,
          -0.2513025512916043,
          null
         ],
         "y": [
          0.1682354611726609,
          0.05656129835002774,
          null
         ]
        },
        {
         "hoverinfo": "none",
         "line": {
          "color": "rgb(217, 163, 130)",
          "width": 0.5
         },
         "mode": "lines",
         "showlegend": false,
         "type": "scatter",
         "x": [
          -0.2707297863842883,
          -0.11968442763645969,
          null
         ],
         "y": [
          0.1682354611726609,
          0.11965191892409399,
          null
         ]
        },
        {
         "hoverinfo": "none",
         "line": {
          "color": "rgb(217, 163, 130)",
          "width": 0.5
         },
         "mode": "lines",
         "showlegend": false,
         "type": "scatter",
         "x": [
          -0.2707297863842883,
          -0.3775536563549635,
          null
         ],
         "y": [
          0.1682354611726609,
          0.20480882158119387,
          null
         ]
        },
        {
         "hoverinfo": "none",
         "line": {
          "color": "rgb(217, 163, 130)",
          "width": 0.5
         },
         "mode": "lines",
         "showlegend": false,
         "type": "scatter",
         "x": [
          -0.2707297863842883,
          -0.3716385449712369,
          null
         ],
         "y": [
          0.1682354611726609,
          0.022948443324626113,
          null
         ]
        },
        {
         "hoverinfo": "none",
         "line": {
          "color": "rgb(217, 163, 130)",
          "width": 0.5
         },
         "mode": "lines",
         "showlegend": false,
         "type": "scatter",
         "x": [
          -0.2707297863842883,
          -0.2613569280765743,
          null
         ],
         "y": [
          0.1682354611726609,
          0.1024950439709986,
          null
         ]
        },
        {
         "hoverinfo": "none",
         "line": {
          "color": "rgb(217, 163, 130)",
          "width": 0.5
         },
         "mode": "lines",
         "showlegend": false,
         "type": "scatter",
         "x": [
          -0.2707297863842883,
          -0.4273913794722158,
          null
         ],
         "y": [
          0.1682354611726609,
          0.07534254378929657,
          null
         ]
        },
        {
         "hoverinfo": "none",
         "line": {
          "color": "rgb(217, 163, 130)",
          "width": 0.5
         },
         "mode": "lines",
         "showlegend": false,
         "type": "scatter",
         "x": [
          -0.2707297863842883,
          -0.1629557198089675,
          null
         ],
         "y": [
          0.1682354611726609,
          0.33520218118778466,
          null
         ]
        },
        {
         "hoverinfo": "none",
         "line": {
          "color": "rgb(217, 163, 130)",
          "width": 0.5
         },
         "mode": "lines",
         "showlegend": false,
         "type": "scatter",
         "x": [
          -0.2707297863842883,
          -0.11595991333626053,
          null
         ],
         "y": [
          0.1682354611726609,
          0.143259301644824,
          null
         ]
        },
        {
         "hoverinfo": "none",
         "line": {
          "color": "rgb(217, 163, 130)",
          "width": 0.5
         },
         "mode": "lines",
         "showlegend": false,
         "type": "scatter",
         "x": [
          -0.2707297863842883,
          -0.43629702558556005,
          null
         ],
         "y": [
          0.1682354611726609,
          0.10633235645846191,
          null
         ]
        },
        {
         "hoverinfo": "none",
         "line": {
          "color": "rgb(69, 78, 10)",
          "width": 0.5
         },
         "mode": "lines",
         "showlegend": false,
         "type": "scatter",
         "x": [
          0.6710496629818039,
          0.6793850582397616,
          null
         ],
         "y": [
          0.3511257235831271,
          0.2488427648658535,
          null
         ]
        },
        {
         "hoverinfo": "none",
         "line": {
          "color": "rgb(69, 78, 10)",
          "width": 0.5
         },
         "mode": "lines",
         "showlegend": false,
         "type": "scatter",
         "x": [
          0.6710496629818039,
          0.8080053925711365,
          null
         ],
         "y": [
          0.3511257235831271,
          0.4238618754163606,
          null
         ]
        },
        {
         "hoverinfo": "none",
         "line": {
          "color": "rgb(69, 78, 10)",
          "width": 0.5
         },
         "mode": "lines",
         "showlegend": false,
         "type": "scatter",
         "x": [
          0.6710496629818039,
          0.7449191617698078,
          null
         ],
         "y": [
          0.3511257235831271,
          0.2534791841347404,
          null
         ]
        },
        {
         "hoverinfo": "none",
         "line": {
          "color": "rgb(69, 78, 10)",
          "width": 0.5
         },
         "mode": "lines",
         "showlegend": false,
         "type": "scatter",
         "x": [
          0.6710496629818039,
          0.5435028939625632,
          null
         ],
         "y": [
          0.3511257235831271,
          0.23791075931933922,
          null
         ]
        },
        {
         "hoverinfo": "none",
         "line": {
          "color": "rgb(69, 78, 10)",
          "width": 0.5
         },
         "mode": "lines",
         "showlegend": false,
         "type": "scatter",
         "x": [
          0.6710496629818039,
          0.3457965878736536,
          null
         ],
         "y": [
          0.3511257235831271,
          0.2844095874244452,
          null
         ]
        },
        {
         "hoverinfo": "none",
         "line": {
          "color": "rgb(69, 78, 10)",
          "width": 0.5
         },
         "mode": "lines",
         "showlegend": false,
         "type": "scatter",
         "x": [
          0.6710496629818039,
          0.7579242703904586,
          null
         ],
         "y": [
          0.3511257235831271,
          0.4582800151558439,
          null
         ]
        },
        {
         "hoverinfo": "none",
         "line": {
          "color": "rgb(69, 78, 10)",
          "width": 0.5
         },
         "mode": "lines",
         "showlegend": false,
         "type": "scatter",
         "x": [
          0.6710496629818039,
          0.8033208800031334,
          null
         ],
         "y": [
          0.3511257235831271,
          0.39415799103433324,
          null
         ]
        },
        {
         "hoverinfo": "none",
         "line": {
          "color": "rgb(69, 78, 10)",
          "width": 0.5
         },
         "mode": "lines",
         "showlegend": false,
         "type": "scatter",
         "x": [
          0.6710496629818039,
          0.8324146566690978,
          null
         ],
         "y": [
          0.3511257235831271,
          0.3593523887917944,
          null
         ]
        },
        {
         "hoverinfo": "none",
         "line": {
          "color": "rgb(69, 78, 10)",
          "width": 0.5
         },
         "mode": "lines",
         "showlegend": false,
         "type": "scatter",
         "x": [
          0.6710496629818039,
          0.7834086167176945,
          null
         ],
         "y": [
          0.3511257235831271,
          0.3669182481572542,
          null
         ]
        },
        {
         "hoverinfo": "none",
         "line": {
          "color": "rgb(69, 78, 10)",
          "width": 0.5
         },
         "mode": "lines",
         "showlegend": false,
         "type": "scatter",
         "x": [
          0.6710496629818039,
          0.8132062297533971,
          null
         ],
         "y": [
          0.3511257235831271,
          0.31883717374759774,
          null
         ]
        },
        {
         "hoverinfo": "none",
         "line": {
          "color": "rgb(69, 78, 10)",
          "width": 0.5
         },
         "mode": "lines",
         "showlegend": false,
         "type": "scatter",
         "x": [
          0.6710496629818039,
          0.665538673171137,
          null
         ],
         "y": [
          0.3511257235831271,
          0.46046553419942965,
          null
         ]
        },
        {
         "hoverinfo": "none",
         "line": {
          "color": "rgb(69, 78, 10)",
          "width": 0.5
         },
         "mode": "lines",
         "showlegend": false,
         "type": "scatter",
         "x": [
          0.6710496629818039,
          0.7847903248712984,
          null
         ],
         "y": [
          0.3511257235831271,
          0.44369139630444754,
          null
         ]
        },
        {
         "hoverinfo": "none",
         "line": {
          "color": "rgb(69, 78, 10)",
          "width": 0.5
         },
         "mode": "lines",
         "showlegend": false,
         "type": "scatter",
         "x": [
          0.6710496629818039,
          0.6928562772153092,
          null
         ],
         "y": [
          0.3511257235831271,
          0.41270883241905437,
          null
         ]
        },
        {
         "hoverinfo": "none",
         "line": {
          "color": "rgb(69, 78, 10)",
          "width": 0.5
         },
         "mode": "lines",
         "showlegend": false,
         "type": "scatter",
         "x": [
          0.6710496629818039,
          0.7269628886860958,
          null
         ],
         "y": [
          0.3511257235831271,
          0.2861937583743462,
          null
         ]
        },
        {
         "hoverinfo": "none",
         "line": {
          "color": "rgb(69, 78, 10)",
          "width": 0.5
         },
         "mode": "lines",
         "showlegend": false,
         "type": "scatter",
         "x": [
          0.6710496629818039,
          0.7207086174247749,
          null
         ],
         "y": [
          0.3511257235831271,
          0.4780907389282466,
          null
         ]
        },
        {
         "hoverinfo": "none",
         "line": {
          "color": "rgb(69, 78, 10)",
          "width": 0.5
         },
         "mode": "lines",
         "showlegend": false,
         "type": "scatter",
         "x": [
          0.6710496629818039,
          0.5154555530268133,
          null
         ],
         "y": [
          0.3511257235831271,
          0.2871745053303118,
          null
         ]
        },
        {
         "hoverinfo": "none",
         "line": {
          "color": "rgb(69, 78, 10)",
          "width": 0.5
         },
         "mode": "lines",
         "showlegend": false,
         "type": "scatter",
         "x": [
          0.6710496629818039,
          0.6117542410546194,
          null
         ],
         "y": [
          0.3511257235831271,
          0.35227001060360175,
          null
         ]
        },
        {
         "hoverinfo": "none",
         "line": {
          "color": "rgb(19, 4, 44)",
          "width": 0.5
         },
         "mode": "lines",
         "showlegend": false,
         "type": "scatter",
         "x": [
          0.7468835780555388,
          0.8080053925711365,
          null
         ],
         "y": [
          0.4094090293701423,
          0.4238618754163606,
          null
         ]
        },
        {
         "hoverinfo": "none",
         "line": {
          "color": "rgb(19, 4, 44)",
          "width": 0.5
         },
         "mode": "lines",
         "showlegend": false,
         "type": "scatter",
         "x": [
          0.7468835780555388,
          0.7579242703904586,
          null
         ],
         "y": [
          0.4094090293701423,
          0.4582800151558439,
          null
         ]
        },
        {
         "hoverinfo": "none",
         "line": {
          "color": "rgb(19, 4, 44)",
          "width": 0.5
         },
         "mode": "lines",
         "showlegend": false,
         "type": "scatter",
         "x": [
          0.7468835780555388,
          0.8033208800031334,
          null
         ],
         "y": [
          0.4094090293701423,
          0.39415799103433324,
          null
         ]
        },
        {
         "hoverinfo": "none",
         "line": {
          "color": "rgb(19, 4, 44)",
          "width": 0.5
         },
         "mode": "lines",
         "showlegend": false,
         "type": "scatter",
         "x": [
          0.7468835780555388,
          0.7834086167176945,
          null
         ],
         "y": [
          0.4094090293701423,
          0.3669182481572542,
          null
         ]
        },
        {
         "hoverinfo": "none",
         "line": {
          "color": "rgb(19, 4, 44)",
          "width": 0.5
         },
         "mode": "lines",
         "showlegend": false,
         "type": "scatter",
         "x": [
          0.7468835780555388,
          0.7847903248712984,
          null
         ],
         "y": [
          0.4094090293701423,
          0.44369139630444754,
          null
         ]
        },
        {
         "hoverinfo": "none",
         "line": {
          "color": "rgb(19, 4, 44)",
          "width": 0.5
         },
         "mode": "lines",
         "showlegend": false,
         "type": "scatter",
         "x": [
          0.7468835780555388,
          0.6928562772153092,
          null
         ],
         "y": [
          0.4094090293701423,
          0.41270883241905437,
          null
         ]
        },
        {
         "hoverinfo": "none",
         "line": {
          "color": "rgb(19, 4, 44)",
          "width": 0.5
         },
         "mode": "lines",
         "showlegend": false,
         "type": "scatter",
         "x": [
          0.7468835780555388,
          0.6117542410546194,
          null
         ],
         "y": [
          0.4094090293701423,
          0.35227001060360175,
          null
         ]
        },
        {
         "hoverinfo": "none",
         "line": {
          "color": "rgb(208, 166, 233)",
          "width": 0.5
         },
         "mode": "lines",
         "showlegend": false,
         "type": "scatter",
         "x": [
          -0.15529990826226467,
          -0.1923725016925493,
          null
         ],
         "y": [
          0.08608567702583753,
          -0.09259924052874884,
          null
         ]
        },
        {
         "hoverinfo": "none",
         "line": {
          "color": "rgb(208, 166, 233)",
          "width": 0.5
         },
         "mode": "lines",
         "showlegend": false,
         "type": "scatter",
         "x": [
          -0.15529990826226467,
          -0.27870173626851297,
          null
         ],
         "y": [
          0.08608567702583753,
          0.07579544952194729,
          null
         ]
        },
        {
         "hoverinfo": "none",
         "line": {
          "color": "rgb(208, 166, 233)",
          "width": 0.5
         },
         "mode": "lines",
         "showlegend": false,
         "type": "scatter",
         "x": [
          -0.15529990826226467,
          -0.011657309084383742,
          null
         ],
         "y": [
          0.08608567702583753,
          0.08140731666965129,
          null
         ]
        },
        {
         "hoverinfo": "none",
         "line": {
          "color": "rgb(208, 166, 233)",
          "width": 0.5
         },
         "mode": "lines",
         "showlegend": false,
         "type": "scatter",
         "x": [
          -0.15529990826226467,
          -0.15215648845848878,
          null
         ],
         "y": [
          0.08608567702583753,
          0.22909408607143344,
          null
         ]
        },
        {
         "hoverinfo": "none",
         "line": {
          "color": "rgb(208, 166, 233)",
          "width": 0.5
         },
         "mode": "lines",
         "showlegend": false,
         "type": "scatter",
         "x": [
          -0.15529990826226467,
          -0.128534518369437,
          null
         ],
         "y": [
          0.08608567702583753,
          -0.08540186856697032,
          null
         ]
        },
        {
         "hoverinfo": "none",
         "line": {
          "color": "rgb(208, 166, 233)",
          "width": 0.5
         },
         "mode": "lines",
         "showlegend": false,
         "type": "scatter",
         "x": [
          -0.15529990826226467,
          -0.075633877992529,
          null
         ],
         "y": [
          0.08608567702583753,
          0.2437792090613868,
          null
         ]
        },
        {
         "hoverinfo": "none",
         "line": {
          "color": "rgb(208, 166, 233)",
          "width": 0.5
         },
         "mode": "lines",
         "showlegend": false,
         "type": "scatter",
         "x": [
          -0.15529990826226467,
          -0.290037641109382,
          null
         ],
         "y": [
          0.08608567702583753,
          0.20536606810140529,
          null
         ]
        },
        {
         "hoverinfo": "none",
         "line": {
          "color": "rgb(208, 166, 233)",
          "width": 0.5
         },
         "mode": "lines",
         "showlegend": false,
         "type": "scatter",
         "x": [
          -0.15529990826226467,
          -0.03866717027295076,
          null
         ],
         "y": [
          0.08608567702583753,
          0.07607115295868858,
          null
         ]
        },
        {
         "hoverinfo": "none",
         "line": {
          "color": "rgb(208, 166, 233)",
          "width": 0.5
         },
         "mode": "lines",
         "showlegend": false,
         "type": "scatter",
         "x": [
          -0.15529990826226467,
          -0.07120014159278604,
          null
         ],
         "y": [
          0.08608567702583753,
          0.2643997995717606,
          null
         ]
        },
        {
         "hoverinfo": "none",
         "line": {
          "color": "rgb(208, 166, 233)",
          "width": 0.5
         },
         "mode": "lines",
         "showlegend": false,
         "type": "scatter",
         "x": [
          -0.15529990826226467,
          -0.16068483655363192,
          null
         ],
         "y": [
          0.08608567702583753,
          -0.09124127915355625,
          null
         ]
        },
        {
         "hoverinfo": "none",
         "line": {
          "color": "rgb(208, 166, 233)",
          "width": 0.5
         },
         "mode": "lines",
         "showlegend": false,
         "type": "scatter",
         "x": [
          -0.15529990826226467,
          -0.188741226855319,
          null
         ],
         "y": [
          0.08608567702583753,
          0.21922198342532723,
          null
         ]
        },
        {
         "hoverinfo": "none",
         "line": {
          "color": "rgb(208, 166, 233)",
          "width": 0.5
         },
         "mode": "lines",
         "showlegend": false,
         "type": "scatter",
         "x": [
          -0.15529990826226467,
          -0.1406624980837648,
          null
         ],
         "y": [
          0.08608567702583753,
          0.14529639114180304,
          null
         ]
        },
        {
         "hoverinfo": "none",
         "line": {
          "color": "rgb(208, 166, 233)",
          "width": 0.5
         },
         "mode": "lines",
         "showlegend": false,
         "type": "scatter",
         "x": [
          -0.15529990826226467,
          -0.22541393628156886,
          null
         ],
         "y": [
          0.08608567702583753,
          0.09472474638835705,
          null
         ]
        },
        {
         "hoverinfo": "none",
         "line": {
          "color": "rgb(208, 166, 233)",
          "width": 0.5
         },
         "mode": "lines",
         "showlegend": false,
         "type": "scatter",
         "x": [
          -0.15529990826226467,
          -0.21233015833036303,
          null
         ],
         "y": [
          0.08608567702583753,
          0.05660101591722757,
          null
         ]
        },
        {
         "hoverinfo": "none",
         "line": {
          "color": "rgb(208, 166, 233)",
          "width": 0.5
         },
         "mode": "lines",
         "showlegend": false,
         "type": "scatter",
         "x": [
          -0.15529990826226467,
          -0.1373528495746465,
          null
         ],
         "y": [
          0.08608567702583753,
          0.19378208583618042,
          null
         ]
        },
        {
         "hoverinfo": "none",
         "line": {
          "color": "rgb(208, 166, 233)",
          "width": 0.5
         },
         "mode": "lines",
         "showlegend": false,
         "type": "scatter",
         "x": [
          -0.15529990826226467,
          -0.2513025512916043,
          null
         ],
         "y": [
          0.08608567702583753,
          0.05656129835002774,
          null
         ]
        },
        {
         "hoverinfo": "none",
         "line": {
          "color": "rgb(208, 166, 233)",
          "width": 0.5
         },
         "mode": "lines",
         "showlegend": false,
         "type": "scatter",
         "x": [
          -0.15529990826226467,
          -0.11968442763645969,
          null
         ],
         "y": [
          0.08608567702583753,
          0.11965191892409399,
          null
         ]
        },
        {
         "hoverinfo": "none",
         "line": {
          "color": "rgb(208, 166, 233)",
          "width": 0.5
         },
         "mode": "lines",
         "showlegend": false,
         "type": "scatter",
         "x": [
          -0.15529990826226467,
          -0.24117915819775493,
          null
         ],
         "y": [
          0.08608567702583753,
          -0.08018363252796307,
          null
         ]
        },
        {
         "hoverinfo": "none",
         "line": {
          "color": "rgb(208, 166, 233)",
          "width": 0.5
         },
         "mode": "lines",
         "showlegend": false,
         "type": "scatter",
         "x": [
          -0.15529990826226467,
          -0.028089575772316647,
          null
         ],
         "y": [
          0.08608567702583753,
          0.10794834804585987,
          null
         ]
        },
        {
         "hoverinfo": "none",
         "line": {
          "color": "rgb(208, 166, 233)",
          "width": 0.5
         },
         "mode": "lines",
         "showlegend": false,
         "type": "scatter",
         "x": [
          -0.15529990826226467,
          -0.2613569280765743,
          null
         ],
         "y": [
          0.08608567702583753,
          0.1024950439709986,
          null
         ]
        },
        {
         "hoverinfo": "none",
         "line": {
          "color": "rgb(208, 166, 233)",
          "width": 0.5
         },
         "mode": "lines",
         "showlegend": false,
         "type": "scatter",
         "x": [
          -0.15529990826226467,
          -0.11595991333626053,
          null
         ],
         "y": [
          0.08608567702583753,
          0.143259301644824,
          null
         ]
        },
        {
         "hoverinfo": "none",
         "line": {
          "color": "rgb(128, 155, 248)",
          "width": 0.5
         },
         "mode": "lines",
         "showlegend": false,
         "type": "scatter",
         "x": [
          -0.03126075628920498,
          -0.18684790560215211,
          null
         ],
         "y": [
          0.31899565838015104,
          0.30798008182795145,
          null
         ]
        },
        {
         "hoverinfo": "none",
         "line": {
          "color": "rgb(128, 155, 248)",
          "width": 0.5
         },
         "mode": "lines",
         "showlegend": false,
         "type": "scatter",
         "x": [
          -0.03126075628920498,
          0.10998167706262175,
          null
         ],
         "y": [
          0.31899565838015104,
          0.40356755568117836,
          null
         ]
        },
        {
         "hoverinfo": "none",
         "line": {
          "color": "rgb(128, 155, 248)",
          "width": 0.5
         },
         "mode": "lines",
         "showlegend": false,
         "type": "scatter",
         "x": [
          -0.03126075628920498,
          -0.1824664004500479,
          null
         ],
         "y": [
          0.31899565838015104,
          0.33763157802763183,
          null
         ]
        },
        {
         "hoverinfo": "none",
         "line": {
          "color": "rgb(128, 155, 248)",
          "width": 0.5
         },
         "mode": "lines",
         "showlegend": false,
         "type": "scatter",
         "x": [
          -0.03126075628920498,
          0.14077298446099434,
          null
         ],
         "y": [
          0.31899565838015104,
          0.2814206403150561,
          null
         ]
        },
        {
         "hoverinfo": "none",
         "line": {
          "color": "rgb(128, 155, 248)",
          "width": 0.5
         },
         "mode": "lines",
         "showlegend": false,
         "type": "scatter",
         "x": [
          -0.03126075628920498,
          -0.075633877992529,
          null
         ],
         "y": [
          0.31899565838015104,
          0.2437792090613868,
          null
         ]
        },
        {
         "hoverinfo": "none",
         "line": {
          "color": "rgb(128, 155, 248)",
          "width": 0.5
         },
         "mode": "lines",
         "showlegend": false,
         "type": "scatter",
         "x": [
          -0.03126075628920498,
          -0.12051772694277374,
          null
         ],
         "y": [
          0.31899565838015104,
          0.29262687185265296,
          null
         ]
        },
        {
         "hoverinfo": "none",
         "line": {
          "color": "rgb(128, 155, 248)",
          "width": 0.5
         },
         "mode": "lines",
         "showlegend": false,
         "type": "scatter",
         "x": [
          -0.03126075628920498,
          0.02347081973766631,
          null
         ],
         "y": [
          0.31899565838015104,
          0.36619175273809035,
          null
         ]
        },
        {
         "hoverinfo": "none",
         "line": {
          "color": "rgb(128, 155, 248)",
          "width": 0.5
         },
         "mode": "lines",
         "showlegend": false,
         "type": "scatter",
         "x": [
          -0.03126075628920498,
          -0.11762129127461363,
          null
         ],
         "y": [
          0.31899565838015104,
          0.20997168050577852,
          null
         ]
        },
        {
         "hoverinfo": "none",
         "line": {
          "color": "rgb(128, 155, 248)",
          "width": 0.5
         },
         "mode": "lines",
         "showlegend": false,
         "type": "scatter",
         "x": [
          -0.03126075628920498,
          -0.16781425093906577,
          null
         ],
         "y": [
          0.31899565838015104,
          0.2941334793242913,
          null
         ]
        },
        {
         "hoverinfo": "none",
         "line": {
          "color": "rgb(128, 155, 248)",
          "width": 0.5
         },
         "mode": "lines",
         "showlegend": false,
         "type": "scatter",
         "x": [
          -0.03126075628920498,
          -0.07120014159278604,
          null
         ],
         "y": [
          0.31899565838015104,
          0.2643997995717606,
          null
         ]
        },
        {
         "hoverinfo": "none",
         "line": {
          "color": "rgb(128, 155, 248)",
          "width": 0.5
         },
         "mode": "lines",
         "showlegend": false,
         "type": "scatter",
         "x": [
          -0.03126075628920498,
          -0.15988552527642616,
          null
         ],
         "y": [
          0.31899565838015104,
          0.3135342343994817,
          null
         ]
        },
        {
         "hoverinfo": "none",
         "line": {
          "color": "rgb(128, 155, 248)",
          "width": 0.5
         },
         "mode": "lines",
         "showlegend": false,
         "type": "scatter",
         "x": [
          -0.03126075628920498,
          -0.022988040401551342,
          null
         ],
         "y": [
          0.31899565838015104,
          0.45637468201274956,
          null
         ]
        },
        {
         "hoverinfo": "none",
         "line": {
          "color": "rgb(128, 155, 248)",
          "width": 0.5
         },
         "mode": "lines",
         "showlegend": false,
         "type": "scatter",
         "x": [
          -0.03126075628920498,
          -0.12141940784505686,
          null
         ],
         "y": [
          0.31899565838015104,
          0.2658529333635812,
          null
         ]
        },
        {
         "hoverinfo": "none",
         "line": {
          "color": "rgb(128, 155, 248)",
          "width": 0.5
         },
         "mode": "lines",
         "showlegend": false,
         "type": "scatter",
         "x": [
          -0.03126075628920498,
          0.11593768870607707,
          null
         ],
         "y": [
          0.31899565838015104,
          0.2648435936482176,
          null
         ]
        },
        {
         "hoverinfo": "none",
         "line": {
          "color": "rgb(128, 155, 248)",
          "width": 0.5
         },
         "mode": "lines",
         "showlegend": false,
         "type": "scatter",
         "x": [
          -0.03126075628920498,
          0.12290287965573422,
          null
         ],
         "y": [
          0.31899565838015104,
          0.34962591332366466,
          null
         ]
        },
        {
         "hoverinfo": "none",
         "line": {
          "color": "rgb(128, 155, 248)",
          "width": 0.5
         },
         "mode": "lines",
         "showlegend": false,
         "type": "scatter",
         "x": [
          -0.03126075628920498,
          -0.06704063719604764,
          null
         ],
         "y": [
          0.31899565838015104,
          0.435741867889345,
          null
         ]
        },
        {
         "hoverinfo": "none",
         "line": {
          "color": "rgb(128, 155, 248)",
          "width": 0.5
         },
         "mode": "lines",
         "showlegend": false,
         "type": "scatter",
         "x": [
          -0.03126075628920498,
          0.10521626958276954,
          null
         ],
         "y": [
          0.31899565838015104,
          0.23549644642613798,
          null
         ]
        },
        {
         "hoverinfo": "none",
         "line": {
          "color": "rgb(128, 155, 248)",
          "width": 0.5
         },
         "mode": "lines",
         "showlegend": false,
         "type": "scatter",
         "x": [
          -0.03126075628920498,
          -0.10632977568957214,
          null
         ],
         "y": [
          0.31899565838015104,
          0.27722134736822235,
          null
         ]
        },
        {
         "hoverinfo": "none",
         "line": {
          "color": "rgb(128, 155, 248)",
          "width": 0.5
         },
         "mode": "lines",
         "showlegend": false,
         "type": "scatter",
         "x": [
          -0.03126075628920498,
          -0.13811070360570055,
          null
         ],
         "y": [
          0.31899565838015104,
          0.23053351208638526,
          null
         ]
        },
        {
         "hoverinfo": "none",
         "line": {
          "color": "rgb(128, 155, 248)",
          "width": 0.5
         },
         "mode": "lines",
         "showlegend": false,
         "type": "scatter",
         "x": [
          -0.03126075628920498,
          -0.1629557198089675,
          null
         ],
         "y": [
          0.31899565838015104,
          0.33520218118778466,
          null
         ]
        },
        {
         "hoverinfo": "none",
         "line": {
          "color": "rgb(128, 155, 248)",
          "width": 0.5
         },
         "mode": "lines",
         "showlegend": false,
         "type": "scatter",
         "x": [
          -0.03126075628920498,
          -0.00853269883458008,
          null
         ],
         "y": [
          0.31899565838015104,
          0.3599223957619827,
          null
         ]
        },
        {
         "hoverinfo": "none",
         "line": {
          "color": "rgb(128, 155, 248)",
          "width": 0.5
         },
         "mode": "lines",
         "showlegend": false,
         "type": "scatter",
         "x": [
          -0.03126075628920498,
          0.07913052001427595,
          null
         ],
         "y": [
          0.31899565838015104,
          0.44309749821570027,
          null
         ]
        },
        {
         "hoverinfo": "none",
         "line": {
          "color": "rgb(128, 155, 248)",
          "width": 0.5
         },
         "mode": "lines",
         "showlegend": false,
         "type": "scatter",
         "x": [
          -0.03126075628920498,
          0.005830788338638083,
          null
         ],
         "y": [
          0.31899565838015104,
          0.3343220931588791,
          null
         ]
        },
        {
         "hoverinfo": "none",
         "line": {
          "color": "rgb(186, 161, 139)",
          "width": 0.5
         },
         "mode": "lines",
         "showlegend": false,
         "type": "scatter",
         "x": [
          -0.4840745470804763,
          -0.4978300595824196,
          null
         ],
         "y": [
          0.21128280612555725,
          0.32009992106525886,
          null
         ]
        },
        {
         "hoverinfo": "none",
         "line": {
          "color": "rgb(186, 161, 139)",
          "width": 0.5
         },
         "mode": "lines",
         "showlegend": false,
         "type": "scatter",
         "x": [
          -0.4840745470804763,
          -0.290037641109382,
          null
         ],
         "y": [
          0.21128280612555725,
          0.20536606810140529,
          null
         ]
        },
        {
         "hoverinfo": "none",
         "line": {
          "color": "rgb(186, 161, 139)",
          "width": 0.5
         },
         "mode": "lines",
         "showlegend": false,
         "type": "scatter",
         "x": [
          -0.4840745470804763,
          -0.28914489075065686,
          null
         ],
         "y": [
          0.21128280612555725,
          -0.11052795804248579,
          null
         ]
        },
        {
         "hoverinfo": "none",
         "line": {
          "color": "rgb(186, 161, 139)",
          "width": 0.5
         },
         "mode": "lines",
         "showlegend": false,
         "type": "scatter",
         "x": [
          -0.4840745470804763,
          -0.656315597173635,
          null
         ],
         "y": [
          0.21128280612555725,
          0.2546570095126868,
          null
         ]
        },
        {
         "hoverinfo": "none",
         "line": {
          "color": "rgb(186, 161, 139)",
          "width": 0.5
         },
         "mode": "lines",
         "showlegend": false,
         "type": "scatter",
         "x": [
          -0.4840745470804763,
          -0.616210801013837,
          null
         ],
         "y": [
          0.21128280612555725,
          0.24455068194511134,
          null
         ]
        },
        {
         "hoverinfo": "none",
         "line": {
          "color": "rgb(186, 161, 139)",
          "width": 0.5
         },
         "mode": "lines",
         "showlegend": false,
         "type": "scatter",
         "x": [
          -0.4840745470804763,
          -0.4255071277738455,
          null
         ],
         "y": [
          0.21128280612555725,
          0.3615814431752296,
          null
         ]
        },
        {
         "hoverinfo": "none",
         "line": {
          "color": "rgb(186, 161, 139)",
          "width": 0.5
         },
         "mode": "lines",
         "showlegend": false,
         "type": "scatter",
         "x": [
          -0.4840745470804763,
          -0.3445957146880467,
          null
         ],
         "y": [
          0.21128280612555725,
          0.32117113096226396,
          null
         ]
        },
        {
         "hoverinfo": "none",
         "line": {
          "color": "rgb(186, 161, 139)",
          "width": 0.5
         },
         "mode": "lines",
         "showlegend": false,
         "type": "scatter",
         "x": [
          -0.4840745470804763,
          -0.6067873552840113,
          null
         ],
         "y": [
          0.21128280612555725,
          0.27913418083613944,
          null
         ]
        },
        {
         "hoverinfo": "none",
         "line": {
          "color": "rgb(186, 161, 139)",
          "width": 0.5
         },
         "mode": "lines",
         "showlegend": false,
         "type": "scatter",
         "x": [
          -0.4840745470804763,
          -0.6196719866855624,
          null
         ],
         "y": [
          0.21128280612555725,
          0.2112940763168219,
          null
         ]
        },
        {
         "hoverinfo": "none",
         "line": {
          "color": "rgb(186, 161, 139)",
          "width": 0.5
         },
         "mode": "lines",
         "showlegend": false,
         "type": "scatter",
         "x": [
          -0.4840745470804763,
          -0.616716613006032,
          null
         ],
         "y": [
          0.21128280612555725,
          0.3282705493427303,
          null
         ]
        },
        {
         "hoverinfo": "none",
         "line": {
          "color": "rgb(186, 161, 139)",
          "width": 0.5
         },
         "mode": "lines",
         "showlegend": false,
         "type": "scatter",
         "x": [
          -0.4840745470804763,
          -0.5828134714591691,
          null
         ],
         "y": [
          0.21128280612555725,
          0.3091239923469291,
          null
         ]
        },
        {
         "hoverinfo": "none",
         "line": {
          "color": "rgb(186, 161, 139)",
          "width": 0.5
         },
         "mode": "lines",
         "showlegend": false,
         "type": "scatter",
         "x": [
          -0.4840745470804763,
          -0.3996974513821344,
          null
         ],
         "y": [
          0.21128280612555725,
          0.2645700206427761,
          null
         ]
        },
        {
         "hoverinfo": "none",
         "line": {
          "color": "rgb(143, 239, 71)",
          "width": 0.5
         },
         "mode": "lines",
         "showlegend": false,
         "type": "scatter",
         "x": [
          -0.11410123557162424,
          -0.28914489075065686,
          null
         ],
         "y": [
          -0.3951987537897483,
          -0.11052795804248579,
          null
         ]
        },
        {
         "hoverinfo": "none",
         "line": {
          "color": "rgb(143, 239, 71)",
          "width": 0.5
         },
         "mode": "lines",
         "showlegend": false,
         "type": "scatter",
         "x": [
          -0.11410123557162424,
          -0.09117009599414627,
          null
         ],
         "y": [
          -0.3951987537897483,
          -0.48996691939581777,
          null
         ]
        },
        {
         "hoverinfo": "none",
         "line": {
          "color": "rgb(143, 239, 71)",
          "width": 0.5
         },
         "mode": "lines",
         "showlegend": false,
         "type": "scatter",
         "x": [
          -0.11410123557162424,
          -0.06487279905495194,
          null
         ],
         "y": [
          -0.3951987537897483,
          -0.5264300148721152,
          null
         ]
        },
        {
         "hoverinfo": "none",
         "line": {
          "color": "rgb(143, 239, 71)",
          "width": 0.5
         },
         "mode": "lines",
         "showlegend": false,
         "type": "scatter",
         "x": [
          -0.11410123557162424,
          -0.00846750400119786,
          null
         ],
         "y": [
          -0.3951987537897483,
          -0.47658034372149205,
          null
         ]
        },
        {
         "hoverinfo": "none",
         "line": {
          "color": "rgb(143, 239, 71)",
          "width": 0.5
         },
         "mode": "lines",
         "showlegend": false,
         "type": "scatter",
         "x": [
          -0.11410123557162424,
          0.002950587974662115,
          null
         ],
         "y": [
          -0.3951987537897483,
          -0.4391378269169737,
          null
         ]
        },
        {
         "hoverinfo": "none",
         "line": {
          "color": "rgb(143, 239, 71)",
          "width": 0.5
         },
         "mode": "lines",
         "showlegend": false,
         "type": "scatter",
         "x": [
          -0.11410123557162424,
          -0.10666210777845608,
          null
         ],
         "y": [
          -0.3951987537897483,
          -0.5247250860195878,
          null
         ]
        },
        {
         "hoverinfo": "none",
         "line": {
          "color": "rgb(143, 239, 71)",
          "width": 0.5
         },
         "mode": "lines",
         "showlegend": false,
         "type": "scatter",
         "x": [
          -0.11410123557162424,
          -0.027553382829159947,
          null
         ],
         "y": [
          -0.3951987537897483,
          -0.5128267415599623,
          null
         ]
        },
        {
         "hoverinfo": "none",
         "line": {
          "color": "rgb(143, 239, 71)",
          "width": 0.5
         },
         "mode": "lines",
         "showlegend": false,
         "type": "scatter",
         "x": [
          -0.11410123557162424,
          -0.043162404093863786,
          null
         ],
         "y": [
          -0.3951987537897483,
          -0.4723362481807672,
          null
         ]
        },
        {
         "hoverinfo": "none",
         "line": {
          "color": "rgb(208, 171, 0)",
          "width": 0.5
         },
         "mode": "lines",
         "showlegend": false,
         "type": "scatter",
         "x": [
          -0.11345773170844056,
          -0.18684790560215211,
          null
         ],
         "y": [
          0.4037860865132917,
          0.30798008182795145,
          null
         ]
        },
        {
         "hoverinfo": "none",
         "line": {
          "color": "rgb(208, 171, 0)",
          "width": 0.5
         },
         "mode": "lines",
         "showlegend": false,
         "type": "scatter",
         "x": [
          -0.11345773170844056,
          -0.1824664004500479,
          null
         ],
         "y": [
          0.4037860865132917,
          0.33763157802763183,
          null
         ]
        },
        {
         "hoverinfo": "none",
         "line": {
          "color": "rgb(208, 171, 0)",
          "width": 0.5
         },
         "mode": "lines",
         "showlegend": false,
         "type": "scatter",
         "x": [
          -0.11345773170844056,
          -0.24548505112958316,
          null
         ],
         "y": [
          0.4037860865132917,
          0.35578145053028176,
          null
         ]
        },
        {
         "hoverinfo": "none",
         "line": {
          "color": "rgb(208, 171, 0)",
          "width": 0.5
         },
         "mode": "lines",
         "showlegend": false,
         "type": "scatter",
         "x": [
          -0.11345773170844056,
          0.050692041578969636,
          null
         ],
         "y": [
          0.4037860865132917,
          0.3836213755936947,
          null
         ]
        },
        {
         "hoverinfo": "none",
         "line": {
          "color": "rgb(208, 171, 0)",
          "width": 0.5
         },
         "mode": "lines",
         "showlegend": false,
         "type": "scatter",
         "x": [
          -0.11345773170844056,
          -0.15215648845848878,
          null
         ],
         "y": [
          0.4037860865132917,
          0.22909408607143344,
          null
         ]
        },
        {
         "hoverinfo": "none",
         "line": {
          "color": "rgb(208, 171, 0)",
          "width": 0.5
         },
         "mode": "lines",
         "showlegend": false,
         "type": "scatter",
         "x": [
          -0.11345773170844056,
          -0.075633877992529,
          null
         ],
         "y": [
          0.4037860865132917,
          0.2437792090613868,
          null
         ]
        },
        {
         "hoverinfo": "none",
         "line": {
          "color": "rgb(208, 171, 0)",
          "width": 0.5
         },
         "mode": "lines",
         "showlegend": false,
         "type": "scatter",
         "x": [
          -0.11345773170844056,
          -0.12051772694277374,
          null
         ],
         "y": [
          0.4037860865132917,
          0.29262687185265296,
          null
         ]
        },
        {
         "hoverinfo": "none",
         "line": {
          "color": "rgb(208, 171, 0)",
          "width": 0.5
         },
         "mode": "lines",
         "showlegend": false,
         "type": "scatter",
         "x": [
          -0.11345773170844056,
          0.02347081973766631,
          null
         ],
         "y": [
          0.4037860865132917,
          0.36619175273809035,
          null
         ]
        },
        {
         "hoverinfo": "none",
         "line": {
          "color": "rgb(208, 171, 0)",
          "width": 0.5
         },
         "mode": "lines",
         "showlegend": false,
         "type": "scatter",
         "x": [
          -0.11345773170844056,
          -0.16781425093906577,
          null
         ],
         "y": [
          0.4037860865132917,
          0.2941334793242913,
          null
         ]
        },
        {
         "hoverinfo": "none",
         "line": {
          "color": "rgb(208, 171, 0)",
          "width": 0.5
         },
         "mode": "lines",
         "showlegend": false,
         "type": "scatter",
         "x": [
          -0.11345773170844056,
          -0.07120014159278604,
          null
         ],
         "y": [
          0.4037860865132917,
          0.2643997995717606,
          null
         ]
        },
        {
         "hoverinfo": "none",
         "line": {
          "color": "rgb(208, 171, 0)",
          "width": 0.5
         },
         "mode": "lines",
         "showlegend": false,
         "type": "scatter",
         "x": [
          -0.11345773170844056,
          -0.19583583042228497,
          null
         ],
         "y": [
          0.4037860865132917,
          0.5541318039657896,
          null
         ]
        },
        {
         "hoverinfo": "none",
         "line": {
          "color": "rgb(208, 171, 0)",
          "width": 0.5
         },
         "mode": "lines",
         "showlegend": false,
         "type": "scatter",
         "x": [
          -0.11345773170844056,
          -0.15988552527642616,
          null
         ],
         "y": [
          0.4037860865132917,
          0.3135342343994817,
          null
         ]
        },
        {
         "hoverinfo": "none",
         "line": {
          "color": "rgb(208, 171, 0)",
          "width": 0.5
         },
         "mode": "lines",
         "showlegend": false,
         "type": "scatter",
         "x": [
          -0.11345773170844056,
          -0.022988040401551342,
          null
         ],
         "y": [
          0.4037860865132917,
          0.45637468201274956,
          null
         ]
        },
        {
         "hoverinfo": "none",
         "line": {
          "color": "rgb(208, 171, 0)",
          "width": 0.5
         },
         "mode": "lines",
         "showlegend": false,
         "type": "scatter",
         "x": [
          -0.11345773170844056,
          -0.0427007194412207,
          null
         ],
         "y": [
          0.4037860865132917,
          0.35733624338544623,
          null
         ]
        },
        {
         "hoverinfo": "none",
         "line": {
          "color": "rgb(208, 171, 0)",
          "width": 0.5
         },
         "mode": "lines",
         "showlegend": false,
         "type": "scatter",
         "x": [
          -0.11345773170844056,
          -0.12141940784505686,
          null
         ],
         "y": [
          0.4037860865132917,
          0.2658529333635812,
          null
         ]
        },
        {
         "hoverinfo": "none",
         "line": {
          "color": "rgb(208, 171, 0)",
          "width": 0.5
         },
         "mode": "lines",
         "showlegend": false,
         "type": "scatter",
         "x": [
          -0.11345773170844056,
          -0.26490949631413124,
          null
         ],
         "y": [
          0.4037860865132917,
          0.3426266517736249,
          null
         ]
        },
        {
         "hoverinfo": "none",
         "line": {
          "color": "rgb(208, 171, 0)",
          "width": 0.5
         },
         "mode": "lines",
         "showlegend": false,
         "type": "scatter",
         "x": [
          -0.11345773170844056,
          -0.008652150718297374,
          null
         ],
         "y": [
          0.4037860865132917,
          0.5100569179757707,
          null
         ]
        },
        {
         "hoverinfo": "none",
         "line": {
          "color": "rgb(208, 171, 0)",
          "width": 0.5
         },
         "mode": "lines",
         "showlegend": false,
         "type": "scatter",
         "x": [
          -0.11345773170844056,
          -0.14514404025238706,
          null
         ],
         "y": [
          0.4037860865132917,
          0.48281906038481864,
          null
         ]
        },
        {
         "hoverinfo": "none",
         "line": {
          "color": "rgb(208, 171, 0)",
          "width": 0.5
         },
         "mode": "lines",
         "showlegend": false,
         "type": "scatter",
         "x": [
          -0.11345773170844056,
          -0.1389798884473957,
          null
         ],
         "y": [
          0.4037860865132917,
          0.5609439530110986,
          null
         ]
        },
        {
         "hoverinfo": "none",
         "line": {
          "color": "rgb(208, 171, 0)",
          "width": 0.5
         },
         "mode": "lines",
         "showlegend": false,
         "type": "scatter",
         "x": [
          -0.11345773170844056,
          -0.11704509169702788,
          null
         ],
         "y": [
          0.4037860865132917,
          0.5897578191059746,
          null
         ]
        },
        {
         "hoverinfo": "none",
         "line": {
          "color": "rgb(208, 171, 0)",
          "width": 0.5
         },
         "mode": "lines",
         "showlegend": false,
         "type": "scatter",
         "x": [
          -0.11345773170844056,
          -0.06704063719604764,
          null
         ],
         "y": [
          0.4037860865132917,
          0.435741867889345,
          null
         ]
        },
        {
         "hoverinfo": "none",
         "line": {
          "color": "rgb(208, 171, 0)",
          "width": 0.5
         },
         "mode": "lines",
         "showlegend": false,
         "type": "scatter",
         "x": [
          -0.11345773170844056,
          -0.10632977568957214,
          null
         ],
         "y": [
          0.4037860865132917,
          0.27722134736822235,
          null
         ]
        },
        {
         "hoverinfo": "none",
         "line": {
          "color": "rgb(208, 171, 0)",
          "width": 0.5
         },
         "mode": "lines",
         "showlegend": false,
         "type": "scatter",
         "x": [
          -0.11345773170844056,
          -0.24419711091855187,
          null
         ],
         "y": [
          0.4037860865132917,
          0.32429583507044124,
          null
         ]
        },
        {
         "hoverinfo": "none",
         "line": {
          "color": "rgb(208, 171, 0)",
          "width": 0.5
         },
         "mode": "lines",
         "showlegend": false,
         "type": "scatter",
         "x": [
          -0.11345773170844056,
          -0.16757892066360977,
          null
         ],
         "y": [
          0.4037860865132917,
          0.5790248264027563,
          null
         ]
        },
        {
         "hoverinfo": "none",
         "line": {
          "color": "rgb(208, 171, 0)",
          "width": 0.5
         },
         "mode": "lines",
         "showlegend": false,
         "type": "scatter",
         "x": [
          -0.11345773170844056,
          -0.09087944271085256,
          null
         ],
         "y": [
          0.4037860865132917,
          0.567099728732899,
          null
         ]
        },
        {
         "hoverinfo": "none",
         "line": {
          "color": "rgb(208, 171, 0)",
          "width": 0.5
         },
         "mode": "lines",
         "showlegend": false,
         "type": "scatter",
         "x": [
          -0.11345773170844056,
          -0.1629557198089675,
          null
         ],
         "y": [
          0.4037860865132917,
          0.33520218118778466,
          null
         ]
        },
        {
         "hoverinfo": "none",
         "line": {
          "color": "rgb(208, 171, 0)",
          "width": 0.5
         },
         "mode": "lines",
         "showlegend": false,
         "type": "scatter",
         "x": [
          -0.11345773170844056,
          -0.00853269883458008,
          null
         ],
         "y": [
          0.4037860865132917,
          0.3599223957619827,
          null
         ]
        },
        {
         "hoverinfo": "none",
         "line": {
          "color": "rgb(208, 171, 0)",
          "width": 0.5
         },
         "mode": "lines",
         "showlegend": false,
         "type": "scatter",
         "x": [
          -0.11345773170844056,
          -0.05665785521511031,
          null
         ],
         "y": [
          0.4037860865132917,
          0.5679229852625437,
          null
         ]
        },
        {
         "hoverinfo": "none",
         "line": {
          "color": "rgb(208, 171, 0)",
          "width": 0.5
         },
         "mode": "lines",
         "showlegend": false,
         "type": "scatter",
         "x": [
          -0.11345773170844056,
          0.005830788338638083,
          null
         ],
         "y": [
          0.4037860865132917,
          0.3343220931588791,
          null
         ]
        },
        {
         "hoverinfo": "none",
         "line": {
          "color": "rgb(100, 219, 141)",
          "width": 0.5
         },
         "mode": "lines",
         "showlegend": false,
         "type": "scatter",
         "x": [
          -0.12143898001262289,
          -0.1824664004500479,
          null
         ],
         "y": [
          0.34669268430249844,
          0.33763157802763183,
          null
         ]
        },
        {
         "hoverinfo": "none",
         "line": {
          "color": "rgb(100, 219, 141)",
          "width": 0.5
         },
         "mode": "lines",
         "showlegend": false,
         "type": "scatter",
         "x": [
          -0.12143898001262289,
          -0.12051772694277374,
          null
         ],
         "y": [
          0.34669268430249844,
          0.29262687185265296,
          null
         ]
        },
        {
         "hoverinfo": "none",
         "line": {
          "color": "rgb(100, 219, 141)",
          "width": 0.5
         },
         "mode": "lines",
         "showlegend": false,
         "type": "scatter",
         "x": [
          -0.12143898001262289,
          -0.07120014159278604,
          null
         ],
         "y": [
          0.34669268430249844,
          0.2643997995717606,
          null
         ]
        },
        {
         "hoverinfo": "none",
         "line": {
          "color": "rgb(100, 219, 141)",
          "width": 0.5
         },
         "mode": "lines",
         "showlegend": false,
         "type": "scatter",
         "x": [
          -0.12143898001262289,
          -0.188741226855319,
          null
         ],
         "y": [
          0.34669268430249844,
          0.21922198342532723,
          null
         ]
        },
        {
         "hoverinfo": "none",
         "line": {
          "color": "rgb(100, 219, 141)",
          "width": 0.5
         },
         "mode": "lines",
         "showlegend": false,
         "type": "scatter",
         "x": [
          -0.12143898001262289,
          -0.0427007194412207,
          null
         ],
         "y": [
          0.34669268430249844,
          0.35733624338544623,
          null
         ]
        },
        {
         "hoverinfo": "none",
         "line": {
          "color": "rgb(100, 219, 141)",
          "width": 0.5
         },
         "mode": "lines",
         "showlegend": false,
         "type": "scatter",
         "x": [
          -0.12143898001262289,
          -0.14514404025238706,
          null
         ],
         "y": [
          0.34669268430249844,
          0.48281906038481864,
          null
         ]
        },
        {
         "hoverinfo": "none",
         "line": {
          "color": "rgb(100, 219, 141)",
          "width": 0.5
         },
         "mode": "lines",
         "showlegend": false,
         "type": "scatter",
         "x": [
          -0.12143898001262289,
          -0.1373528495746465,
          null
         ],
         "y": [
          0.34669268430249844,
          0.19378208583618042,
          null
         ]
        },
        {
         "hoverinfo": "none",
         "line": {
          "color": "rgb(100, 219, 141)",
          "width": 0.5
         },
         "mode": "lines",
         "showlegend": false,
         "type": "scatter",
         "x": [
          -0.12143898001262289,
          -0.06704063719604764,
          null
         ],
         "y": [
          0.34669268430249844,
          0.435741867889345,
          null
         ]
        },
        {
         "hoverinfo": "none",
         "line": {
          "color": "rgb(100, 219, 141)",
          "width": 0.5
         },
         "mode": "lines",
         "showlegend": false,
         "type": "scatter",
         "x": [
          -0.12143898001262289,
          -0.1629557198089675,
          null
         ],
         "y": [
          0.34669268430249844,
          0.33520218118778466,
          null
         ]
        },
        {
         "hoverinfo": "none",
         "line": {
          "color": "rgb(8, 195, 186)",
          "width": 0.5
         },
         "mode": "lines",
         "showlegend": false,
         "type": "scatter",
         "x": [
          -0.5229447160299242,
          -0.4978300595824196,
          null
         ],
         "y": [
          0.2581845399842633,
          0.32009992106525886,
          null
         ]
        },
        {
         "hoverinfo": "none",
         "line": {
          "color": "rgb(8, 195, 186)",
          "width": 0.5
         },
         "mode": "lines",
         "showlegend": false,
         "type": "scatter",
         "x": [
          -0.5229447160299242,
          -0.290037641109382,
          null
         ],
         "y": [
          0.2581845399842633,
          0.20536606810140529,
          null
         ]
        },
        {
         "hoverinfo": "none",
         "line": {
          "color": "rgb(8, 195, 186)",
          "width": 0.5
         },
         "mode": "lines",
         "showlegend": false,
         "type": "scatter",
         "x": [
          -0.5229447160299242,
          -0.616210801013837,
          null
         ],
         "y": [
          0.2581845399842633,
          0.24455068194511134,
          null
         ]
        },
        {
         "hoverinfo": "none",
         "line": {
          "color": "rgb(8, 195, 186)",
          "width": 0.5
         },
         "mode": "lines",
         "showlegend": false,
         "type": "scatter",
         "x": [
          -0.5229447160299242,
          -0.6067873552840113,
          null
         ],
         "y": [
          0.2581845399842633,
          0.27913418083613944,
          null
         ]
        },
        {
         "hoverinfo": "none",
         "line": {
          "color": "rgb(8, 195, 186)",
          "width": 0.5
         },
         "mode": "lines",
         "showlegend": false,
         "type": "scatter",
         "x": [
          -0.5229447160299242,
          -0.6196719866855624,
          null
         ],
         "y": [
          0.2581845399842633,
          0.2112940763168219,
          null
         ]
        },
        {
         "hoverinfo": "none",
         "line": {
          "color": "rgb(8, 195, 186)",
          "width": 0.5
         },
         "mode": "lines",
         "showlegend": false,
         "type": "scatter",
         "x": [
          -0.5229447160299242,
          -0.5828134714591691,
          null
         ],
         "y": [
          0.2581845399842633,
          0.3091239923469291,
          null
         ]
        },
        {
         "hoverinfo": "none",
         "line": {
          "color": "rgb(216, 44, 22)",
          "width": 0.5
         },
         "mode": "lines",
         "showlegend": false,
         "type": "scatter",
         "x": [
          -0.002783099540395791,
          -0.011657309084383742,
          null
         ],
         "y": [
          0.20833887342572804,
          0.08140731666965129,
          null
         ]
        },
        {
         "hoverinfo": "none",
         "line": {
          "color": "rgb(216, 44, 22)",
          "width": 0.5
         },
         "mode": "lines",
         "showlegend": false,
         "type": "scatter",
         "x": [
          -0.002783099540395791,
          -0.15215648845848878,
          null
         ],
         "y": [
          0.20833887342572804,
          0.22909408607143344,
          null
         ]
        },
        {
         "hoverinfo": "none",
         "line": {
          "color": "rgb(216, 44, 22)",
          "width": 0.5
         },
         "mode": "lines",
         "showlegend": false,
         "type": "scatter",
         "x": [
          -0.002783099540395791,
          0.10868342199057718,
          null
         ],
         "y": [
          0.20833887342572804,
          0.14554498592171017,
          null
         ]
        },
        {
         "hoverinfo": "none",
         "line": {
          "color": "rgb(216, 44, 22)",
          "width": 0.5
         },
         "mode": "lines",
         "showlegend": false,
         "type": "scatter",
         "x": [
          -0.002783099540395791,
          -0.12051772694277374,
          null
         ],
         "y": [
          0.20833887342572804,
          0.29262687185265296,
          null
         ]
        },
        {
         "hoverinfo": "none",
         "line": {
          "color": "rgb(216, 44, 22)",
          "width": 0.5
         },
         "mode": "lines",
         "showlegend": false,
         "type": "scatter",
         "x": [
          -0.002783099540395791,
          -0.290037641109382,
          null
         ],
         "y": [
          0.20833887342572804,
          0.20536606810140529,
          null
         ]
        },
        {
         "hoverinfo": "none",
         "line": {
          "color": "rgb(216, 44, 22)",
          "width": 0.5
         },
         "mode": "lines",
         "showlegend": false,
         "type": "scatter",
         "x": [
          -0.002783099540395791,
          -0.03866717027295076,
          null
         ],
         "y": [
          0.20833887342572804,
          0.07607115295868858,
          null
         ]
        },
        {
         "hoverinfo": "none",
         "line": {
          "color": "rgb(216, 44, 22)",
          "width": 0.5
         },
         "mode": "lines",
         "showlegend": false,
         "type": "scatter",
         "x": [
          -0.002783099540395791,
          0.1405572855247426,
          null
         ],
         "y": [
          0.20833887342572804,
          0.19656577896787045,
          null
         ]
        },
        {
         "hoverinfo": "none",
         "line": {
          "color": "rgb(216, 44, 22)",
          "width": 0.5
         },
         "mode": "lines",
         "showlegend": false,
         "type": "scatter",
         "x": [
          -0.002783099540395791,
          -0.07120014159278604,
          null
         ],
         "y": [
          0.20833887342572804,
          0.2643997995717606,
          null
         ]
        },
        {
         "hoverinfo": "none",
         "line": {
          "color": "rgb(216, 44, 22)",
          "width": 0.5
         },
         "mode": "lines",
         "showlegend": false,
         "type": "scatter",
         "x": [
          -0.002783099540395791,
          0.3457965878736536,
          null
         ],
         "y": [
          0.20833887342572804,
          0.2844095874244452,
          null
         ]
        },
        {
         "hoverinfo": "none",
         "line": {
          "color": "rgb(216, 44, 22)",
          "width": 0.5
         },
         "mode": "lines",
         "showlegend": false,
         "type": "scatter",
         "x": [
          -0.002783099540395791,
          -0.0427007194412207,
          null
         ],
         "y": [
          0.20833887342572804,
          0.35733624338544623,
          null
         ]
        },
        {
         "hoverinfo": "none",
         "line": {
          "color": "rgb(216, 44, 22)",
          "width": 0.5
         },
         "mode": "lines",
         "showlegend": false,
         "type": "scatter",
         "x": [
          -0.002783099540395791,
          0.1042029192622304,
          null
         ],
         "y": [
          0.20833887342572804,
          0.10395596112172732,
          null
         ]
        },
        {
         "hoverinfo": "none",
         "line": {
          "color": "rgb(216, 44, 22)",
          "width": 0.5
         },
         "mode": "lines",
         "showlegend": false,
         "type": "scatter",
         "x": [
          -0.002783099540395791,
          -0.1406624980837648,
          null
         ],
         "y": [
          0.20833887342572804,
          0.14529639114180304,
          null
         ]
        },
        {
         "hoverinfo": "none",
         "line": {
          "color": "rgb(216, 44, 22)",
          "width": 0.5
         },
         "mode": "lines",
         "showlegend": false,
         "type": "scatter",
         "x": [
          -0.002783099540395791,
          -0.12141940784505686,
          null
         ],
         "y": [
          0.20833887342572804,
          0.2658529333635812,
          null
         ]
        },
        {
         "hoverinfo": "none",
         "line": {
          "color": "rgb(216, 44, 22)",
          "width": 0.5
         },
         "mode": "lines",
         "showlegend": false,
         "type": "scatter",
         "x": [
          -0.002783099540395791,
          0.1412351290853604,
          null
         ],
         "y": [
          0.20833887342572804,
          0.13453917508998683,
          null
         ]
        },
        {
         "hoverinfo": "none",
         "line": {
          "color": "rgb(216, 44, 22)",
          "width": 0.5
         },
         "mode": "lines",
         "showlegend": false,
         "type": "scatter",
         "x": [
          -0.002783099540395791,
          -0.1373528495746465,
          null
         ],
         "y": [
          0.20833887342572804,
          0.19378208583618042,
          null
         ]
        },
        {
         "hoverinfo": "none",
         "line": {
          "color": "rgb(216, 44, 22)",
          "width": 0.5
         },
         "mode": "lines",
         "showlegend": false,
         "type": "scatter",
         "x": [
          -0.002783099540395791,
          0.1578313441634791,
          null
         ],
         "y": [
          0.20833887342572804,
          0.17306886191483317,
          null
         ]
        },
        {
         "hoverinfo": "none",
         "line": {
          "color": "rgb(216, 44, 22)",
          "width": 0.5
         },
         "mode": "lines",
         "showlegend": false,
         "type": "scatter",
         "x": [
          -0.002783099540395791,
          -0.10632977568957214,
          null
         ],
         "y": [
          0.20833887342572804,
          0.27722134736822235,
          null
         ]
        },
        {
         "hoverinfo": "none",
         "line": {
          "color": "rgb(216, 44, 22)",
          "width": 0.5
         },
         "mode": "lines",
         "showlegend": false,
         "type": "scatter",
         "x": [
          -0.002783099540395791,
          -0.11968442763645969,
          null
         ],
         "y": [
          0.20833887342572804,
          0.11965191892409399,
          null
         ]
        },
        {
         "hoverinfo": "none",
         "line": {
          "color": "rgb(216, 44, 22)",
          "width": 0.5
         },
         "mode": "lines",
         "showlegend": false,
         "type": "scatter",
         "x": [
          -0.002783099540395791,
          -0.028089575772316647,
          null
         ],
         "y": [
          0.20833887342572804,
          0.10794834804585987,
          null
         ]
        },
        {
         "hoverinfo": "none",
         "line": {
          "color": "rgb(216, 44, 22)",
          "width": 0.5
         },
         "mode": "lines",
         "showlegend": false,
         "type": "scatter",
         "x": [
          -0.002783099540395791,
          -0.00853269883458008,
          null
         ],
         "y": [
          0.20833887342572804,
          0.3599223957619827,
          null
         ]
        },
        {
         "hoverinfo": "none",
         "line": {
          "color": "rgb(216, 44, 22)",
          "width": 0.5
         },
         "mode": "lines",
         "showlegend": false,
         "type": "scatter",
         "x": [
          -0.002783099540395791,
          -0.11595991333626053,
          null
         ],
         "y": [
          0.20833887342572804,
          0.143259301644824,
          null
         ]
        },
        {
         "hoverinfo": "none",
         "line": {
          "color": "rgb(216, 44, 22)",
          "width": 0.5
         },
         "mode": "lines",
         "showlegend": false,
         "type": "scatter",
         "x": [
          -0.002783099540395791,
          0.005830788338638083,
          null
         ],
         "y": [
          0.20833887342572804,
          0.3343220931588791,
          null
         ]
        },
        {
         "hoverinfo": "none",
         "line": {
          "color": "rgb(220, 5, 138)",
          "width": 0.5
         },
         "mode": "lines",
         "showlegend": false,
         "type": "scatter",
         "x": [
          0.5754983640043392,
          0.5431768881020482,
          null
         ],
         "y": [
          -0.6289722017858109,
          -0.6304245036625405,
          null
         ]
        },
        {
         "hoverinfo": "none",
         "line": {
          "color": "rgb(220, 5, 138)",
          "width": 0.5
         },
         "mode": "lines",
         "showlegend": false,
         "type": "scatter",
         "x": [
          0.5754983640043392,
          0.6578567962199952,
          null
         ],
         "y": [
          -0.6289722017858109,
          -0.5518091629189856,
          null
         ]
        },
        {
         "hoverinfo": "none",
         "line": {
          "color": "rgb(220, 5, 138)",
          "width": 0.5
         },
         "mode": "lines",
         "showlegend": false,
         "type": "scatter",
         "x": [
          0.5754983640043392,
          0.6073687764179546,
          null
         ],
         "y": [
          -0.6289722017858109,
          -0.47595860927083833,
          null
         ]
        },
        {
         "hoverinfo": "none",
         "line": {
          "color": "rgb(220, 5, 138)",
          "width": 0.5
         },
         "mode": "lines",
         "showlegend": false,
         "type": "scatter",
         "x": [
          0.5754983640043392,
          0.7085863104923781,
          null
         ],
         "y": [
          -0.6289722017858109,
          -0.648677349407198,
          null
         ]
        },
        {
         "hoverinfo": "none",
         "line": {
          "color": "rgb(220, 5, 138)",
          "width": 0.5
         },
         "mode": "lines",
         "showlegend": false,
         "type": "scatter",
         "x": [
          0.5754983640043392,
          0.6384893064360098,
          null
         ],
         "y": [
          -0.6289722017858109,
          -0.6568061333373418,
          null
         ]
        },
        {
         "hoverinfo": "none",
         "line": {
          "color": "rgb(220, 5, 138)",
          "width": 0.5
         },
         "mode": "lines",
         "showlegend": false,
         "type": "scatter",
         "x": [
          0.5754983640043392,
          0.6156573747196333,
          null
         ],
         "y": [
          -0.6289722017858109,
          -0.7565346251292837,
          null
         ]
        },
        {
         "hoverinfo": "none",
         "line": {
          "color": "rgb(220, 5, 138)",
          "width": 0.5
         },
         "mode": "lines",
         "showlegend": false,
         "type": "scatter",
         "x": [
          0.5754983640043392,
          0.656937289170398,
          null
         ],
         "y": [
          -0.6289722017858109,
          -0.7428009559603708,
          null
         ]
        },
        {
         "hoverinfo": "none",
         "line": {
          "color": "rgb(220, 5, 138)",
          "width": 0.5
         },
         "mode": "lines",
         "showlegend": false,
         "type": "scatter",
         "x": [
          0.5754983640043392,
          0.5695029203683045,
          null
         ],
         "y": [
          -0.6289722017858109,
          -0.5151831145940247,
          null
         ]
        },
        {
         "hoverinfo": "none",
         "line": {
          "color": "rgb(220, 5, 138)",
          "width": 0.5
         },
         "mode": "lines",
         "showlegend": false,
         "type": "scatter",
         "x": [
          0.5754983640043392,
          0.5539616226504137,
          null
         ],
         "y": [
          -0.6289722017858109,
          -0.5641834009220805,
          null
         ]
        },
        {
         "hoverinfo": "none",
         "line": {
          "color": "rgb(220, 5, 138)",
          "width": 0.5
         },
         "mode": "lines",
         "showlegend": false,
         "type": "scatter",
         "x": [
          0.5754983640043392,
          0.5195635701520394,
          null
         ],
         "y": [
          -0.6289722017858109,
          -0.41440193202561787,
          null
         ]
        },
        {
         "hoverinfo": "none",
         "line": {
          "color": "rgb(220, 5, 138)",
          "width": 0.5
         },
         "mode": "lines",
         "showlegend": false,
         "type": "scatter",
         "x": [
          0.5754983640043392,
          0.6740565273602321,
          null
         ],
         "y": [
          -0.6289722017858109,
          -0.681363948333835,
          null
         ]
        },
        {
         "hoverinfo": "none",
         "line": {
          "color": "rgb(220, 5, 138)",
          "width": 0.5
         },
         "mode": "lines",
         "showlegend": false,
         "type": "scatter",
         "x": [
          0.5754983640043392,
          0.2902089377100522,
          null
         ],
         "y": [
          -0.6289722017858109,
          -0.7634787657015799,
          null
         ]
        },
        {
         "hoverinfo": "none",
         "line": {
          "color": "rgb(220, 5, 138)",
          "width": 0.5
         },
         "mode": "lines",
         "showlegend": false,
         "type": "scatter",
         "x": [
          0.5754983640043392,
          0.6911849672750745,
          null
         ],
         "y": [
          -0.6289722017858109,
          -0.5621865024290901,
          null
         ]
        },
        {
         "hoverinfo": "none",
         "line": {
          "color": "rgb(220, 5, 138)",
          "width": 0.5
         },
         "mode": "lines",
         "showlegend": false,
         "type": "scatter",
         "x": [
          0.5754983640043392,
          0.6974727781471629,
          null
         ],
         "y": [
          -0.6289722017858109,
          -0.7039737446453981,
          null
         ]
        },
        {
         "hoverinfo": "none",
         "line": {
          "color": "rgb(20, 76, 123)",
          "width": 0.5
         },
         "mode": "lines",
         "showlegend": false,
         "type": "scatter",
         "x": [
          -0.16859908930697534,
          -0.29856178197410604,
          null
         ],
         "y": [
          -0.8808405365951216,
          -0.8822997997151192,
          null
         ]
        },
        {
         "hoverinfo": "none",
         "line": {
          "color": "rgb(20, 76, 123)",
          "width": 0.5
         },
         "mode": "lines",
         "showlegend": false,
         "type": "scatter",
         "x": [
          -0.16859908930697534,
          -0.11371747153704928,
          null
         ],
         "y": [
          -0.8808405365951216,
          -0.753253471781447,
          null
         ]
        },
        {
         "hoverinfo": "none",
         "line": {
          "color": "rgb(20, 76, 123)",
          "width": 0.5
         },
         "mode": "lines",
         "showlegend": false,
         "type": "scatter",
         "x": [
          -0.16859908930697534,
          -0.2161379013466203,
          null
         ],
         "y": [
          -0.8808405365951216,
          -0.8841993737666438,
          null
         ]
        },
        {
         "hoverinfo": "none",
         "line": {
          "color": "rgb(20, 76, 123)",
          "width": 0.5
         },
         "mode": "lines",
         "showlegend": false,
         "type": "scatter",
         "x": [
          -0.16859908930697534,
          -0.11704441680458139,
          null
         ],
         "y": [
          -0.8808405365951216,
          -0.9629192290777059,
          null
         ]
        },
        {
         "hoverinfo": "none",
         "line": {
          "color": "rgb(20, 76, 123)",
          "width": 0.5
         },
         "mode": "lines",
         "showlegend": false,
         "type": "scatter",
         "x": [
          -0.16859908930697534,
          -0.12977453959269514,
          null
         ],
         "y": [
          -0.8808405365951216,
          -0.7805066458277408,
          null
         ]
        },
        {
         "hoverinfo": "none",
         "line": {
          "color": "rgb(20, 76, 123)",
          "width": 0.5
         },
         "mode": "lines",
         "showlegend": false,
         "type": "scatter",
         "x": [
          -0.16859908930697534,
          -0.12085267352193355,
          null
         ],
         "y": [
          -0.8808405365951216,
          -0.9214810586977997,
          null
         ]
        },
        {
         "hoverinfo": "none",
         "line": {
          "color": "rgb(20, 76, 123)",
          "width": 0.5
         },
         "mode": "lines",
         "showlegend": false,
         "type": "scatter",
         "x": [
          -0.16859908930697534,
          -0.2711287549974749,
          null
         ],
         "y": [
          -0.8808405365951216,
          -0.7566910442040543,
          null
         ]
        },
        {
         "hoverinfo": "none",
         "line": {
          "color": "rgb(20, 76, 123)",
          "width": 0.5
         },
         "mode": "lines",
         "showlegend": false,
         "type": "scatter",
         "x": [
          -0.16859908930697534,
          -0.07090777642809541,
          null
         ],
         "y": [
          -0.8808405365951216,
          -0.9593999695923664,
          null
         ]
        },
        {
         "hoverinfo": "none",
         "line": {
          "color": "rgb(20, 76, 123)",
          "width": 0.5
         },
         "mode": "lines",
         "showlegend": false,
         "type": "scatter",
         "x": [
          -0.16859908930697534,
          -0.08758359290930273,
          null
         ],
         "y": [
          -0.8808405365951216,
          -0.9119702452478586,
          null
         ]
        },
        {
         "hoverinfo": "none",
         "line": {
          "color": "rgb(20, 76, 123)",
          "width": 0.5
         },
         "mode": "lines",
         "showlegend": false,
         "type": "scatter",
         "x": [
          -0.16859908930697534,
          -0.2430442302013657,
          null
         ],
         "y": [
          -0.8808405365951216,
          -1,
          null
         ]
        },
        {
         "hoverinfo": "none",
         "line": {
          "color": "rgb(20, 76, 123)",
          "width": 0.5
         },
         "mode": "lines",
         "showlegend": false,
         "type": "scatter",
         "x": [
          -0.16859908930697534,
          -0.11696154333133256,
          null
         ],
         "y": [
          -0.8808405365951216,
          -0.8313865635926311,
          null
         ]
        },
        {
         "hoverinfo": "none",
         "line": {
          "color": "rgb(20, 76, 123)",
          "width": 0.5
         },
         "mode": "lines",
         "showlegend": false,
         "type": "scatter",
         "x": [
          -0.16859908930697534,
          -0.09446279742223065,
          null
         ],
         "y": [
          -0.8808405365951216,
          -0.8559104627207329,
          null
         ]
        },
        {
         "hoverinfo": "none",
         "line": {
          "color": "rgb(20, 76, 123)",
          "width": 0.5
         },
         "mode": "lines",
         "showlegend": false,
         "type": "scatter",
         "x": [
          -0.16859908930697534,
          -0.09373572736835338,
          null
         ],
         "y": [
          -0.8808405365951216,
          -0.9735502099117478,
          null
         ]
        },
        {
         "hoverinfo": "none",
         "line": {
          "color": "rgb(108, 103, 7)",
          "width": 0.5
         },
         "mode": "lines",
         "showlegend": false,
         "type": "scatter",
         "x": [
          -0.007714450013563275,
          -0.023137803551126428,
          null
         ],
         "y": [
          -0.8744721167228318,
          -0.9765075500820294,
          null
         ]
        },
        {
         "hoverinfo": "none",
         "line": {
          "color": "rgb(108, 103, 7)",
          "width": 0.5
         },
         "mode": "lines",
         "showlegend": false,
         "type": "scatter",
         "x": [
          -0.007714450013563275,
          0.03978712135749224,
          null
         ],
         "y": [
          -0.8744721167228318,
          -0.9637442014883517,
          null
         ]
        },
        {
         "hoverinfo": "none",
         "line": {
          "color": "rgb(108, 103, 7)",
          "width": 0.5
         },
         "mode": "lines",
         "showlegend": false,
         "type": "scatter",
         "x": [
          -0.007714450013563275,
          -0.11371747153704928,
          null
         ],
         "y": [
          -0.8744721167228318,
          -0.753253471781447,
          null
         ]
        },
        {
         "hoverinfo": "none",
         "line": {
          "color": "rgb(108, 103, 7)",
          "width": 0.5
         },
         "mode": "lines",
         "showlegend": false,
         "type": "scatter",
         "x": [
          -0.007714450013563275,
          -0.11704441680458139,
          null
         ],
         "y": [
          -0.8744721167228318,
          -0.9629192290777059,
          null
         ]
        },
        {
         "hoverinfo": "none",
         "line": {
          "color": "rgb(108, 103, 7)",
          "width": 0.5
         },
         "mode": "lines",
         "showlegend": false,
         "type": "scatter",
         "x": [
          -0.007714450013563275,
          -0.12977453959269514,
          null
         ],
         "y": [
          -0.8744721167228318,
          -0.7805066458277408,
          null
         ]
        },
        {
         "hoverinfo": "none",
         "line": {
          "color": "rgb(108, 103, 7)",
          "width": 0.5
         },
         "mode": "lines",
         "showlegend": false,
         "type": "scatter",
         "x": [
          -0.007714450013563275,
          -0.12085267352193355,
          null
         ],
         "y": [
          -0.8744721167228318,
          -0.9214810586977997,
          null
         ]
        },
        {
         "hoverinfo": "none",
         "line": {
          "color": "rgb(108, 103, 7)",
          "width": 0.5
         },
         "mode": "lines",
         "showlegend": false,
         "type": "scatter",
         "x": [
          -0.007714450013563275,
          -0.07090777642809541,
          null
         ],
         "y": [
          -0.8744721167228318,
          -0.9593999695923664,
          null
         ]
        },
        {
         "hoverinfo": "none",
         "line": {
          "color": "rgb(108, 103, 7)",
          "width": 0.5
         },
         "mode": "lines",
         "showlegend": false,
         "type": "scatter",
         "x": [
          -0.007714450013563275,
          -0.08758359290930273,
          null
         ],
         "y": [
          -0.8744721167228318,
          -0.9119702452478586,
          null
         ]
        },
        {
         "hoverinfo": "none",
         "line": {
          "color": "rgb(108, 103, 7)",
          "width": 0.5
         },
         "mode": "lines",
         "showlegend": false,
         "type": "scatter",
         "x": [
          -0.007714450013563275,
          -0.11696154333133256,
          null
         ],
         "y": [
          -0.8744721167228318,
          -0.8313865635926311,
          null
         ]
        },
        {
         "hoverinfo": "none",
         "line": {
          "color": "rgb(108, 103, 7)",
          "width": 0.5
         },
         "mode": "lines",
         "showlegend": false,
         "type": "scatter",
         "x": [
          -0.007714450013563275,
          -0.09446279742223065,
          null
         ],
         "y": [
          -0.8744721167228318,
          -0.8559104627207329,
          null
         ]
        },
        {
         "hoverinfo": "none",
         "line": {
          "color": "rgb(108, 103, 7)",
          "width": 0.5
         },
         "mode": "lines",
         "showlegend": false,
         "type": "scatter",
         "x": [
          -0.007714450013563275,
          -0.09373572736835338,
          null
         ],
         "y": [
          -0.8744721167228318,
          -0.9735502099117478,
          null
         ]
        },
        {
         "hoverinfo": "none",
         "line": {
          "color": "rgb(108, 103, 7)",
          "width": 0.5
         },
         "mode": "lines",
         "showlegend": false,
         "type": "scatter",
         "x": [
          -0.007714450013563275,
          0.06623993851229172,
          null
         ],
         "y": [
          -0.8744721167228318,
          -0.908823639841941,
          null
         ]
        },
        {
         "hoverinfo": "none",
         "line": {
          "color": "rgb(108, 103, 7)",
          "width": 0.5
         },
         "mode": "lines",
         "showlegend": false,
         "type": "scatter",
         "x": [
          -0.007714450013563275,
          0.2902089377100522,
          null
         ],
         "y": [
          -0.8744721167228318,
          -0.7634787657015799,
          null
         ]
        },
        {
         "hoverinfo": "text",
         "hovertext": [
          "LTF",
          "CD6",
          "WAS",
          "SLAMF7",
          "SH2D2A",
          "STAP1",
          "FOXP3",
          "IDH3G",
          "SDHA",
          "FERMT2",
          "TBX21",
          "SMARCD3",
          "GSTP1",
          "LAT2",
          "SIRPG",
          "LAG3",
          "CTSG",
          "GZMB",
          "SLA2",
          "HCK",
          "SLC25A14",
          "CORO1A",
          "PYCARD",
          "IL21R",
          "RASAL3",
          "POP4",
          "CD79A",
          "RPS19",
          "NKG7",
          "JAK3",
          "CLNK",
          "CRTAM",
          "SELPLG",
          "COX6A1",
          "KLRB1",
          "ZAP70",
          "FN1",
          "PARK7",
          "CD2",
          "PLA2G2D",
          "PKD2",
          "NDUFA8",
          "TEK",
          "MRPS2",
          "LY9",
          "IL9R",
          "NDUFA1",
          "COX6B1",
          "CCR7",
          "TRAF2",
          "ALDH1A2",
          "NDUFA2",
          "NINJ1",
          "MATN3",
          "KLRD1",
          "COX5B",
          "IL6",
          "MYO1G",
          "SIT1",
          "YAP1",
          "EMILIN1",
          "CD27",
          "SNRPF",
          "PELP1",
          "ADAMTS16",
          "TTBK1",
          "IL2RG",
          "RPL10",
          "C12orf45",
          "EDNRA",
          "HHEX",
          "CD8A",
          "ADAMTS5",
          "ADAMTS3",
          "CD1A",
          "CD1E",
          "TNNI1",
          "ACTC1",
          "IKZF3",
          "LAPTM5",
          "DDR2",
          "SLAMF6",
          "TNFAIP8L2",
          "PYHIN1",
          "ADAMTS9",
          "HAND2",
          "UQCRQ",
          "SOX17",
          "TNFRSF11B",
          "NOS3",
          "NDUFB8",
          "TMEM100",
          "DCHS1",
          "TRUB2",
          "POP5",
          "CD3D",
          "RHOH",
          "TNXB",
          "ATP5ME",
          "UQCRFS1",
          "LGALS9B",
          "MZB1",
          "CD8B",
          "ISG20",
          "CCL19",
          "RPL38",
          "BNC2",
          "NDNF",
          "CD7",
          "AURKAIP1",
          "ZNF683",
          "COX8A",
          "C8G",
          "PUS1",
          "CD19",
          "FUT7",
          "PRF1",
          "TIGIT",
          "LCK",
          "SH2D1A",
          "UQCR10",
          "WT1",
          "NOC4L",
          "MRPL30",
          "THSD4",
          "C17orf99",
          "TUBB4B",
          "PDCD1",
          "KIR2DL4",
          "MMP1",
          "GZMM",
          "CD247",
          "CD3E",
          "AIF1",
          "LST1",
          "CD177",
          "KLRC2",
          "MRPL23",
          "ATP5MF",
          "IGLL5",
          "GATC",
          "MRPL12",
          "CCL5",
          "TAF9"
         ],
         "marker": {
          "color": [
           -4.63543826227922,
           -0.931199021671115,
           -0.862258352882596,
           -1.00197852549179,
           -0.866791392668665,
           -0.953503457578908,
           -0.824680654617011,
           -0.472679150188564,
           -0.719479992179878,
           1.11349925820885,
           -1.11138525733981,
           0.758833650689055,
           -0.648935928055444,
           -0.627563988036401,
           -1.34935171930972,
           -1.56719593408269,
           1.5492390034263,
           -1.34472805669552,
           -1.19186331484135,
           -0.829139139389121,
           -0.401215051249073,
           -0.816259197317524,
           -0.913855636894425,
           -0.977441965476585,
           -0.855308190280862,
           -0.419475073541431,
           -1.23336282300203,
           -0.680388316907547,
           -1.27418103313393,
           -0.838662026985917,
           -0.969760894839737,
           -1.19848370156374,
           -0.780393146072035,
           -0.578774123488049,
           -0.937626416463207,
           -1.02650785353256,
           1.02493877248519,
           -0.36663375584303,
           -1.03009715439819,
           -2.25939446908656,
           0.733128744712412,
           -0.390453461821774,
           0.833640238355611,
           -0.413221957737349,
           -1.22460137177441,
           -1.24912223744119,
           -0.494362508951455,
           -0.597962242749565,
           -0.959082972418356,
           -0.58956965534691,
           1.72738550770036,
           -0.554735984916446,
           -0.754515117215493,
           3.56780861925441,
           -1.31527687051538,
           -0.554005153383076,
           -1.56609330087868,
           -1.0345484918748,
           -1.07757120940463,
           1.18593616056953,
           0.923592645417166,
           -1.11679680270735,
           -0.426663898528482,
           -0.383928260003006,
           2.53834917619461,
           -0.858834671521203,
           -1.50104946881377,
           -0.567097161856307,
           -0.445855727914503,
           0.848048812154715,
           -0.657602130341499,
           -1.14674811353834,
           1.96112498155881,
           1.12198085856718,
           -2.19865162438609,
           -1.74325800104994,
           0.812637872621896,
           1.57654260213028,
           -0.789816991806985,
           -0.82094134835789,
           0.893113006127846,
           -1.22548048339562,
           -0.89585315788165,
           -1.08243472170258,
           1.17937644538511,
           2.33967850432409,
           -0.674078687221093,
           2.55920805744788,
           1.56436520029882,
           0.936023953098434,
           -0.707878007467636,
           1.69202004712177,
           1.31085918848416,
           -0.326752068643427,
           -0.375692906328866,
           -1.43448354019446,
           -0.951455748297477,
           1.61646028062389,
           -0.923518889063238,
           -0.411273923315782,
           -1.34476619811591,
           -1.25575187342206,
           -1.39645215706749,
           -0.706665694160461,
           -1.75004156415321,
           -0.572819096930641,
           1.17399743398016,
           1.70222682922851,
           -1.35401227382962,
           -0.592878948898938,
           -1.49071941699373,
           -0.520270996347437,
           -1.36068065292678,
           -0.415512101454395,
           -1.17474722931072,
           -1.49377347001232,
           -1.31415376015452,
           -1.04675417346577,
           -0.859690134751617,
           -1.07019642826285,
           -0.623416807347338,
           3.08985879386235,
           -0.45976367623949,
           -0.29429295880275,
           1.18623340062026,
           -1.75906331929102,
           -0.394467447169971,
           -1.11108080649958,
           -1.17164825616904,
           1.41003537444807,
           -1.36396217091826,
           -1.03249242701893,
           -1.17084315004155,
           -0.91380946083373,
           -1.13862668165941,
           -2.06022895492424,
           -1.79643682012373,
           -0.701127739046217,
           -0.595247346852378,
           -1.49604046431332,
           -0.325960100527867,
           -0.940487567891271,
           -1.46888175753815,
           -0.412931434882682
          ],
          "colorbar": {
           "len": 0.5,
           "thickness": 15,
           "title": {
            "side": "right",
            "text": "log2FoldChange"
           },
           "xanchor": "left",
           "y": 0.3
          },
          "colorscale": [
           [
            0,
            "#440154"
           ],
           [
            0.1111111111111111,
            "#482878"
           ],
           [
            0.2222222222222222,
            "#3e4989"
           ],
           [
            0.3333333333333333,
            "#31688e"
           ],
           [
            0.4444444444444444,
            "#26828e"
           ],
           [
            0.5555555555555556,
            "#1f9e89"
           ],
           [
            0.6666666666666666,
            "#35b779"
           ],
           [
            0.7777777777777778,
            "#6ece58"
           ],
           [
            0.8888888888888888,
            "#b5de2b"
           ],
           [
            1,
            "#fde725"
           ]
          ],
          "line": {
           "width": 2
          },
          "showscale": true,
          "size": [
           10,
           10,
           10,
           10,
           10,
           10,
           10,
           10,
           10,
           10,
           10,
           10,
           10,
           10,
           10,
           10,
           10,
           10,
           10,
           10,
           10,
           10,
           10,
           10,
           10,
           10,
           10,
           10,
           10,
           10,
           10,
           10,
           10,
           10,
           10,
           10,
           10,
           10,
           10,
           10,
           10,
           10,
           10,
           10,
           10,
           10,
           10,
           10,
           10,
           10,
           10,
           10,
           10,
           10,
           10,
           10,
           10,
           10,
           10,
           10,
           10,
           10,
           10,
           10,
           10,
           10,
           10,
           10,
           10,
           10,
           10,
           10,
           10,
           10,
           10,
           10,
           10,
           10,
           10,
           10,
           10,
           10,
           10,
           10,
           10,
           10,
           10,
           10,
           10,
           10,
           10,
           10,
           10,
           10,
           10,
           10,
           10,
           10,
           10,
           10,
           10,
           10,
           10,
           10,
           10,
           10,
           10,
           10,
           10,
           10,
           10,
           10,
           10,
           10,
           10,
           10,
           10,
           10,
           10,
           10,
           10,
           10,
           10,
           10,
           10,
           10,
           10,
           10,
           10,
           10,
           10,
           10,
           10,
           10,
           10,
           10,
           10,
           10,
           10,
           10,
           10,
           10,
           10,
           10
          ]
         },
         "mode": "markers",
         "showlegend": false,
         "text": [
          "",
          "",
          "",
          "",
          "",
          "",
          "",
          "",
          "",
          "",
          "",
          "",
          "",
          "",
          "",
          "",
          "",
          "",
          "",
          "",
          "",
          "",
          "",
          "",
          "",
          "",
          "",
          "",
          "",
          "",
          "",
          "",
          "",
          "",
          "",
          "",
          "",
          "",
          "",
          "",
          "",
          "",
          "",
          "",
          "",
          "",
          "",
          "",
          "",
          "",
          "",
          "",
          "",
          "",
          "",
          "",
          "",
          "",
          "",
          "",
          "",
          "",
          "",
          "",
          "",
          "",
          "",
          "",
          "",
          "",
          "",
          "",
          "",
          "",
          "",
          "",
          "",
          "",
          "",
          "",
          "",
          "",
          "",
          "",
          "",
          "",
          "",
          "",
          "",
          "",
          "",
          "",
          "",
          "",
          "",
          "",
          "",
          "",
          "",
          "",
          "",
          "",
          "",
          "",
          "",
          "",
          "",
          "",
          "",
          "",
          "",
          "",
          "",
          "",
          "",
          "",
          "",
          "",
          "",
          "",
          "",
          "",
          "",
          "",
          "",
          "",
          "",
          "",
          "",
          "",
          "",
          "",
          "",
          "",
          "",
          "",
          "",
          "",
          "",
          "",
          "",
          "",
          "",
          ""
         ],
         "type": "scatter",
         "x": [
          -0.1923725016925493,
          -0.18684790560215211,
          -0.40053216919286744,
          -0.27870173626851297,
          0.10998167706262175,
          -0.011657309084383742,
          -0.1824664004500479,
          0.6793850582397616,
          0.8080053925711365,
          -0.023137803551126428,
          -0.24548505112958316,
          -0.29856178197410604,
          0.14077298446099434,
          -0.45210779515628435,
          0.050692041578969636,
          -0.15215648845848878,
          0.5431768881020482,
          -0.128534518369437,
          -0.4311348725259209,
          0.10868342199057718,
          0.7449191617698078,
          -0.075633877992529,
          -0.12051772694277374,
          -0.3435844443824219,
          0.02347081973766631,
          -0.4978300595824196,
          -0.11762129127461363,
          -0.290037641109382,
          -0.03866717027295076,
          -0.16781425093906577,
          0.1405572855247426,
          -0.07120014159278604,
          -0.19583583042228497,
          0.5435028939625632,
          -0.16068483655363192,
          -0.15988552527642616,
          0.03978712135749224,
          0.3457965878736536,
          -0.188741226855319,
          -0.022988040401551342,
          -0.11371747153704928,
          0.7579242703904586,
          -0.2161379013466203,
          -0.28914489075065686,
          -0.29109814915171517,
          -0.26010020957753394,
          0.8033208800031334,
          0.8324146566690978,
          -0.0427007194412207,
          -0.4454930481106314,
          -0.11704441680458139,
          0.7834086167176945,
          0.1042029192622304,
          0.6578567962199952,
          -0.1406624980837648,
          0.8132062297533971,
          -0.12141940784505686,
          -0.42014610443116823,
          -0.2879532874035709,
          -0.12977453959269514,
          0.6073687764179546,
          -0.26490949631413124,
          -0.656315597173635,
          -0.616210801013837,
          0.7085863104923781,
          0.1412351290853604,
          -0.008652150718297374,
          -0.4255071277738455,
          -0.3445957146880467,
          -0.12085267352193355,
          0.11593768870607707,
          -0.3875064731699007,
          0.6384893064360098,
          0.6156573747196333,
          -0.22541393628156886,
          -0.21233015833036303,
          -0.2711287549974749,
          -0.07090777642809541,
          0.12290287965573422,
          -0.14514404025238706,
          0.656937289170398,
          -0.1373528495746465,
          -0.1389798884473957,
          0.1578313441634791,
          0.5695029203683045,
          -0.08758359290930273,
          0.665538673171137,
          -0.2430442302013657,
          0.5539616226504137,
          -0.11696154333133256,
          0.7847903248712984,
          -0.09446279742223065,
          -0.09373572736835338,
          -0.09117009599414627,
          -0.6067873552840113,
          -0.3984695067031723,
          -0.11704509169702788,
          0.5195635701520394,
          0.6928562772153092,
          0.7269628886860958,
          -0.06704063719604764,
          0.10521626958276954,
          -0.41755477908670546,
          -0.6196719866855624,
          -0.10632977568957214,
          -0.616716613006032,
          0.06623993851229172,
          0.6740565273602321,
          -0.24206374435394526,
          -0.06487279905495194,
          -0.39982705760631804,
          0.7207086174247749,
          -0.3834273630711129,
          -0.00846750400119786,
          -0.13811070360570055,
          -0.24419711091855187,
          -0.2513025512916043,
          -0.16757892066360977,
          -0.09087944271085256,
          -0.11968442763645969,
          0.5154555530268133,
          0.2902089377100522,
          -0.5828134714591691,
          0.002950587974662115,
          0.6911849672750745,
          -0.3775536563549635,
          -0.24117915819775493,
          -0.3716385449712369,
          -0.028089575772316647,
          0.6974727781471629,
          -0.2613569280765743,
          -0.4273913794722158,
          -0.1629557198089675,
          -0.00853269883458008,
          0.07913052001427595,
          -0.05665785521511031,
          -0.11595991333626053,
          -0.10666210777845608,
          0.6117542410546194,
          -0.43629702558556005,
          -0.027553382829159947,
          -0.043162404093863786,
          0.005830788338638083,
          -0.3996974513821344
         ],
         "y": [
          -0.09259924052874884,
          0.30798008182795145,
          0.24660569343469063,
          0.07579544952194729,
          0.40356755568117836,
          0.08140731666965129,
          0.33763157802763183,
          0.2488427648658535,
          0.4238618754163606,
          -0.9765075500820294,
          0.35578145053028176,
          -0.8822997997151192,
          0.2814206403150561,
          0.13362814534412695,
          0.3836213755936947,
          0.22909408607143344,
          -0.6304245036625405,
          -0.08540186856697032,
          0.1960815151656949,
          0.14554498592171017,
          0.2534791841347404,
          0.2437792090613868,
          0.29262687185265296,
          -0.007991302604370613,
          0.36619175273809035,
          0.32009992106525886,
          0.20997168050577852,
          0.20536606810140529,
          0.07607115295868858,
          0.2941334793242913,
          0.19656577896787045,
          0.2643997995717606,
          0.5541318039657896,
          0.23791075931933922,
          -0.09124127915355625,
          0.3135342343994817,
          -0.9637442014883517,
          0.2844095874244452,
          0.21922198342532723,
          0.45637468201274956,
          -0.753253471781447,
          0.4582800151558439,
          -0.8841993737666438,
          -0.11052795804248579,
          -0.03606538644376414,
          0.01750260179279251,
          0.39415799103433324,
          0.3593523887917944,
          0.35733624338544623,
          0.1639737589773118,
          -0.9629192290777059,
          0.3669182481572542,
          0.10395596112172732,
          -0.5518091629189856,
          0.14529639114180304,
          0.31883717374759774,
          0.2658529333635812,
          0.2269699398762049,
          -0.006448744289746738,
          -0.7805066458277408,
          -0.47595860927083833,
          0.3426266517736249,
          0.2546570095126868,
          0.24455068194511134,
          -0.648677349407198,
          0.13453917508998683,
          0.5100569179757707,
          0.3615814431752296,
          0.32117113096226396,
          -0.9214810586977997,
          0.2648435936482176,
          0.04474795316004297,
          -0.6568061333373418,
          -0.7565346251292837,
          0.09472474638835705,
          0.05660101591722757,
          -0.7566910442040543,
          -0.9593999695923664,
          0.34962591332366466,
          0.48281906038481864,
          -0.7428009559603708,
          0.19378208583618042,
          0.5609439530110986,
          0.17306886191483317,
          -0.5151831145940247,
          -0.9119702452478586,
          0.46046553419942965,
          -1,
          -0.5641834009220805,
          -0.8313865635926311,
          0.44369139630444754,
          -0.8559104627207329,
          -0.9735502099117478,
          -0.48996691939581777,
          0.27913418083613944,
          0.16941206785996682,
          0.5897578191059746,
          -0.41440193202561787,
          0.41270883241905437,
          0.2861937583743462,
          0.435741867889345,
          0.23549644642613798,
          0.035026605787131876,
          0.2112940763168219,
          0.27722134736822235,
          0.3282705493427303,
          -0.908823639841941,
          -0.681363948333835,
          -0.01743336402780459,
          -0.5264300148721152,
          0.13426550044762117,
          0.4780907389282466,
          0.09908455346961569,
          -0.47658034372149205,
          0.23053351208638526,
          0.32429583507044124,
          0.05656129835002774,
          0.5790248264027563,
          0.567099728732899,
          0.11965191892409399,
          0.2871745053303118,
          -0.7634787657015799,
          0.3091239923469291,
          -0.4391378269169737,
          -0.5621865024290901,
          0.20480882158119387,
          -0.08018363252796307,
          0.022948443324626113,
          0.10794834804585987,
          -0.7039737446453981,
          0.1024950439709986,
          0.07534254378929657,
          0.33520218118778466,
          0.3599223957619827,
          0.44309749821570027,
          0.5679229852625437,
          0.143259301644824,
          -0.5247250860195878,
          0.35227001060360175,
          0.10633235645846191,
          -0.5128267415599623,
          -0.4723362481807672,
          0.3343220931588791,
          0.2645700206427761
         ]
        },
        {
         "hoverinfo": "text",
         "hovertext": [
          "adaptive immune response"
         ],
         "marker": {
          "color": "rgb(217, 163, 130)",
          "line": {
           "width": 2
          },
          "size": [
           47.8
          ]
         },
         "mode": "markers",
         "name": "adaptive immune response",
         "showlegend": true,
         "text": [
          ""
         ],
         "type": "scatter",
         "x": [
          -0.2707297863842883
         ],
         "y": [
          0.1682354611726609
         ]
        },
        {
         "hoverinfo": "text",
         "hovertext": [
          "aerobic respiration"
         ],
         "marker": {
          "color": "rgb(69, 78, 10)",
          "line": {
           "width": 2
          },
          "size": [
           20.4
          ]
         },
         "mode": "markers",
         "name": "aerobic respiration",
         "showlegend": true,
         "text": [
          ""
         ],
         "type": "scatter",
         "x": [
          0.6710496629818039
         ],
         "y": [
          0.3511257235831271
         ]
        },
        {
         "hoverinfo": "text",
         "hovertext": [
          "proton motive force-driven ATP synthesis"
         ],
         "marker": {
          "color": "rgb(19, 4, 44)",
          "line": {
           "width": 2
          },
          "size": [
           14.4
          ]
         },
         "mode": "markers",
         "name": "proton motive force-driven ATP synthesis",
         "showlegend": true,
         "text": [
          ""
         ],
         "type": "scatter",
         "x": [
          0.7468835780555388
         ],
         "y": [
          0.4094090293701423
         ]
        },
        {
         "hoverinfo": "text",
         "hovertext": [
          "cell killing"
         ],
         "marker": {
          "color": "rgb(208, 166, 233)",
          "line": {
           "width": 2
          },
          "size": [
           27
          ]
         },
         "mode": "markers",
         "name": "cell killing",
         "showlegend": true,
         "text": [
          ""
         ],
         "type": "scatter",
         "x": [
          -0.15529990826226467
         ],
         "y": [
          0.08608567702583753
         ]
        },
        {
         "hoverinfo": "text",
         "hovertext": [
          "leukocyte proliferation"
         ],
         "marker": {
          "color": "rgb(128, 155, 248)",
          "line": {
           "width": 2
          },
          "size": [
           33.6
          ]
         },
         "mode": "markers",
         "name": "leukocyte proliferation",
         "showlegend": true,
         "text": [
          ""
         ],
         "type": "scatter",
         "x": [
          -0.03126075628920498
         ],
         "y": [
          0.31899565838015104
         ]
        },
        {
         "hoverinfo": "text",
         "hovertext": [
          "ribonucleoprotein complex biogenesis"
         ],
         "marker": {
          "color": "rgb(186, 161, 139)",
          "line": {
           "width": 2
          },
          "size": [
           38.6
          ]
         },
         "mode": "markers",
         "name": "ribonucleoprotein complex biogenesis",
         "showlegend": true,
         "text": [
          ""
         ],
         "type": "scatter",
         "x": [
          -0.4840745470804763
         ],
         "y": [
          0.21128280612555725
         ]
        },
        {
         "hoverinfo": "text",
         "hovertext": [
          "mitochondrial gene expression"
         ],
         "marker": {
          "color": "rgb(143, 239, 71)",
          "line": {
           "width": 2
          },
          "size": [
           17
          ]
         },
         "mode": "markers",
         "name": "mitochondrial gene expression",
         "showlegend": true,
         "text": [
          ""
         ],
         "type": "scatter",
         "x": [
          -0.11410123557162424
         ],
         "y": [
          -0.3951987537897483
         ]
        },
        {
         "hoverinfo": "text",
         "hovertext": [
          "leukocyte cell-cell adhesion"
         ],
         "marker": {
          "color": "rgb(208, 171, 0)",
          "line": {
           "width": 2
          },
          "size": [
           36.6
          ]
         },
         "mode": "markers",
         "name": "leukocyte cell-cell adhesion",
         "showlegend": true,
         "text": [
          ""
         ],
         "type": "scatter",
         "x": [
          -0.11345773170844056
         ],
         "y": [
          0.4037860865132917
         ]
        },
        {
         "hoverinfo": "text",
         "hovertext": [
          "interferon-gamma production"
         ],
         "marker": {
          "color": "rgb(100, 219, 141)",
          "line": {
           "width": 2
          },
          "size": [
           17.6
          ]
         },
         "mode": "markers",
         "name": "interferon-gamma production",
         "showlegend": true,
         "text": [
          ""
         ],
         "type": "scatter",
         "x": [
          -0.12143898001262289
         ],
         "y": [
          0.34669268430249844
         ]
        },
        {
         "hoverinfo": "text",
         "hovertext": [
          "rRNA processing"
         ],
         "marker": {
          "color": "rgb(8, 195, 186)",
          "line": {
           "width": 2
          },
          "size": [
           20.6
          ]
         },
         "mode": "markers",
         "name": "rRNA processing",
         "showlegend": true,
         "text": [
          ""
         ],
         "type": "scatter",
         "x": [
          -0.5229447160299242
         ],
         "y": [
          0.2581845399842633
         ]
        },
        {
         "hoverinfo": "text",
         "hovertext": [
          "positive regulation of response to external stimulus"
         ],
         "marker": {
          "color": "rgb(216, 44, 22)",
          "line": {
           "width": 2
          },
          "size": [
           48.2
          ]
         },
         "mode": "markers",
         "name": "positive regulation of response to external stimulus",
         "showlegend": true,
         "text": [
          ""
         ],
         "type": "scatter",
         "x": [
          -0.002783099540395791
         ],
         "y": [
          0.20833887342572804
         ]
        },
        {
         "hoverinfo": "text",
         "hovertext": [
          "extracellular matrix organization"
         ],
         "marker": {
          "color": "rgb(220, 5, 138)",
          "line": {
           "width": 2
          },
          "size": [
           19.8
          ]
         },
         "mode": "markers",
         "name": "extracellular matrix organization",
         "showlegend": true,
         "text": [
          ""
         ],
         "type": "scatter",
         "x": [
          0.5754983640043392
         ],
         "y": [
          -0.6289722017858109
         ]
        },
        {
         "hoverinfo": "text",
         "hovertext": [
          "heart morphogenesis"
         ],
         "marker": {
          "color": "rgb(20, 76, 123)",
          "line": {
           "width": 2
          },
          "size": [
           13.6
          ]
         },
         "mode": "markers",
         "name": "heart morphogenesis",
         "showlegend": true,
         "text": [
          ""
         ],
         "type": "scatter",
         "x": [
          -0.16859908930697534
         ],
         "y": [
          -0.8808405365951216
         ]
        },
        {
         "hoverinfo": "text",
         "hovertext": [
          "mesenchyme development"
         ],
         "marker": {
          "color": "rgb(108, 103, 7)",
          "line": {
           "width": 2
          },
          "size": [
           16.8
          ]
         },
         "mode": "markers",
         "name": "mesenchyme development",
         "showlegend": true,
         "text": [
          ""
         ],
         "type": "scatter",
         "x": [
          -0.007714450013563275
         ],
         "y": [
          -0.8744721167228318
         ]
        }
       ],
       "layout": {
        "height": 800,
        "hovermode": "closest",
        "margin": {
         "b": 0,
         "l": 0,
         "r": 0,
         "t": 20
        },
        "showlegend": true,
        "template": {
         "data": {
          "bar": [
           {
            "error_x": {
             "color": "#2a3f5f"
            },
            "error_y": {
             "color": "#2a3f5f"
            },
            "marker": {
             "line": {
              "color": "#E5ECF6",
              "width": 0.5
             },
             "pattern": {
              "fillmode": "overlay",
              "size": 10,
              "solidity": 0.2
             }
            },
            "type": "bar"
           }
          ],
          "barpolar": [
           {
            "marker": {
             "line": {
              "color": "#E5ECF6",
              "width": 0.5
             },
             "pattern": {
              "fillmode": "overlay",
              "size": 10,
              "solidity": 0.2
             }
            },
            "type": "barpolar"
           }
          ],
          "carpet": [
           {
            "aaxis": {
             "endlinecolor": "#2a3f5f",
             "gridcolor": "white",
             "linecolor": "white",
             "minorgridcolor": "white",
             "startlinecolor": "#2a3f5f"
            },
            "baxis": {
             "endlinecolor": "#2a3f5f",
             "gridcolor": "white",
             "linecolor": "white",
             "minorgridcolor": "white",
             "startlinecolor": "#2a3f5f"
            },
            "type": "carpet"
           }
          ],
          "choropleth": [
           {
            "colorbar": {
             "outlinewidth": 0,
             "ticks": ""
            },
            "type": "choropleth"
           }
          ],
          "contour": [
           {
            "colorbar": {
             "outlinewidth": 0,
             "ticks": ""
            },
            "colorscale": [
             [
              0,
              "#0d0887"
             ],
             [
              0.1111111111111111,
              "#46039f"
             ],
             [
              0.2222222222222222,
              "#7201a8"
             ],
             [
              0.3333333333333333,
              "#9c179e"
             ],
             [
              0.4444444444444444,
              "#bd3786"
             ],
             [
              0.5555555555555556,
              "#d8576b"
             ],
             [
              0.6666666666666666,
              "#ed7953"
             ],
             [
              0.7777777777777778,
              "#fb9f3a"
             ],
             [
              0.8888888888888888,
              "#fdca26"
             ],
             [
              1,
              "#f0f921"
             ]
            ],
            "type": "contour"
           }
          ],
          "contourcarpet": [
           {
            "colorbar": {
             "outlinewidth": 0,
             "ticks": ""
            },
            "type": "contourcarpet"
           }
          ],
          "heatmap": [
           {
            "colorbar": {
             "outlinewidth": 0,
             "ticks": ""
            },
            "colorscale": [
             [
              0,
              "#0d0887"
             ],
             [
              0.1111111111111111,
              "#46039f"
             ],
             [
              0.2222222222222222,
              "#7201a8"
             ],
             [
              0.3333333333333333,
              "#9c179e"
             ],
             [
              0.4444444444444444,
              "#bd3786"
             ],
             [
              0.5555555555555556,
              "#d8576b"
             ],
             [
              0.6666666666666666,
              "#ed7953"
             ],
             [
              0.7777777777777778,
              "#fb9f3a"
             ],
             [
              0.8888888888888888,
              "#fdca26"
             ],
             [
              1,
              "#f0f921"
             ]
            ],
            "type": "heatmap"
           }
          ],
          "heatmapgl": [
           {
            "colorbar": {
             "outlinewidth": 0,
             "ticks": ""
            },
            "colorscale": [
             [
              0,
              "#0d0887"
             ],
             [
              0.1111111111111111,
              "#46039f"
             ],
             [
              0.2222222222222222,
              "#7201a8"
             ],
             [
              0.3333333333333333,
              "#9c179e"
             ],
             [
              0.4444444444444444,
              "#bd3786"
             ],
             [
              0.5555555555555556,
              "#d8576b"
             ],
             [
              0.6666666666666666,
              "#ed7953"
             ],
             [
              0.7777777777777778,
              "#fb9f3a"
             ],
             [
              0.8888888888888888,
              "#fdca26"
             ],
             [
              1,
              "#f0f921"
             ]
            ],
            "type": "heatmapgl"
           }
          ],
          "histogram": [
           {
            "marker": {
             "pattern": {
              "fillmode": "overlay",
              "size": 10,
              "solidity": 0.2
             }
            },
            "type": "histogram"
           }
          ],
          "histogram2d": [
           {
            "colorbar": {
             "outlinewidth": 0,
             "ticks": ""
            },
            "colorscale": [
             [
              0,
              "#0d0887"
             ],
             [
              0.1111111111111111,
              "#46039f"
             ],
             [
              0.2222222222222222,
              "#7201a8"
             ],
             [
              0.3333333333333333,
              "#9c179e"
             ],
             [
              0.4444444444444444,
              "#bd3786"
             ],
             [
              0.5555555555555556,
              "#d8576b"
             ],
             [
              0.6666666666666666,
              "#ed7953"
             ],
             [
              0.7777777777777778,
              "#fb9f3a"
             ],
             [
              0.8888888888888888,
              "#fdca26"
             ],
             [
              1,
              "#f0f921"
             ]
            ],
            "type": "histogram2d"
           }
          ],
          "histogram2dcontour": [
           {
            "colorbar": {
             "outlinewidth": 0,
             "ticks": ""
            },
            "colorscale": [
             [
              0,
              "#0d0887"
             ],
             [
              0.1111111111111111,
              "#46039f"
             ],
             [
              0.2222222222222222,
              "#7201a8"
             ],
             [
              0.3333333333333333,
              "#9c179e"
             ],
             [
              0.4444444444444444,
              "#bd3786"
             ],
             [
              0.5555555555555556,
              "#d8576b"
             ],
             [
              0.6666666666666666,
              "#ed7953"
             ],
             [
              0.7777777777777778,
              "#fb9f3a"
             ],
             [
              0.8888888888888888,
              "#fdca26"
             ],
             [
              1,
              "#f0f921"
             ]
            ],
            "type": "histogram2dcontour"
           }
          ],
          "mesh3d": [
           {
            "colorbar": {
             "outlinewidth": 0,
             "ticks": ""
            },
            "type": "mesh3d"
           }
          ],
          "parcoords": [
           {
            "line": {
             "colorbar": {
              "outlinewidth": 0,
              "ticks": ""
             }
            },
            "type": "parcoords"
           }
          ],
          "pie": [
           {
            "automargin": true,
            "type": "pie"
           }
          ],
          "scatter": [
           {
            "fillpattern": {
             "fillmode": "overlay",
             "size": 10,
             "solidity": 0.2
            },
            "type": "scatter"
           }
          ],
          "scatter3d": [
           {
            "line": {
             "colorbar": {
              "outlinewidth": 0,
              "ticks": ""
             }
            },
            "marker": {
             "colorbar": {
              "outlinewidth": 0,
              "ticks": ""
             }
            },
            "type": "scatter3d"
           }
          ],
          "scattercarpet": [
           {
            "marker": {
             "colorbar": {
              "outlinewidth": 0,
              "ticks": ""
             }
            },
            "type": "scattercarpet"
           }
          ],
          "scattergeo": [
           {
            "marker": {
             "colorbar": {
              "outlinewidth": 0,
              "ticks": ""
             }
            },
            "type": "scattergeo"
           }
          ],
          "scattergl": [
           {
            "marker": {
             "colorbar": {
              "outlinewidth": 0,
              "ticks": ""
             }
            },
            "type": "scattergl"
           }
          ],
          "scattermapbox": [
           {
            "marker": {
             "colorbar": {
              "outlinewidth": 0,
              "ticks": ""
             }
            },
            "type": "scattermapbox"
           }
          ],
          "scatterpolar": [
           {
            "marker": {
             "colorbar": {
              "outlinewidth": 0,
              "ticks": ""
             }
            },
            "type": "scatterpolar"
           }
          ],
          "scatterpolargl": [
           {
            "marker": {
             "colorbar": {
              "outlinewidth": 0,
              "ticks": ""
             }
            },
            "type": "scatterpolargl"
           }
          ],
          "scatterternary": [
           {
            "marker": {
             "colorbar": {
              "outlinewidth": 0,
              "ticks": ""
             }
            },
            "type": "scatterternary"
           }
          ],
          "surface": [
           {
            "colorbar": {
             "outlinewidth": 0,
             "ticks": ""
            },
            "colorscale": [
             [
              0,
              "#0d0887"
             ],
             [
              0.1111111111111111,
              "#46039f"
             ],
             [
              0.2222222222222222,
              "#7201a8"
             ],
             [
              0.3333333333333333,
              "#9c179e"
             ],
             [
              0.4444444444444444,
              "#bd3786"
             ],
             [
              0.5555555555555556,
              "#d8576b"
             ],
             [
              0.6666666666666666,
              "#ed7953"
             ],
             [
              0.7777777777777778,
              "#fb9f3a"
             ],
             [
              0.8888888888888888,
              "#fdca26"
             ],
             [
              1,
              "#f0f921"
             ]
            ],
            "type": "surface"
           }
          ],
          "table": [
           {
            "cells": {
             "fill": {
              "color": "#EBF0F8"
             },
             "line": {
              "color": "white"
             }
            },
            "header": {
             "fill": {
              "color": "#C8D4E3"
             },
             "line": {
              "color": "white"
             }
            },
            "type": "table"
           }
          ]
         },
         "layout": {
          "annotationdefaults": {
           "arrowcolor": "#2a3f5f",
           "arrowhead": 0,
           "arrowwidth": 1
          },
          "autotypenumbers": "strict",
          "coloraxis": {
           "colorbar": {
            "outlinewidth": 0,
            "ticks": ""
           }
          },
          "colorscale": {
           "diverging": [
            [
             0,
             "#8e0152"
            ],
            [
             0.1,
             "#c51b7d"
            ],
            [
             0.2,
             "#de77ae"
            ],
            [
             0.3,
             "#f1b6da"
            ],
            [
             0.4,
             "#fde0ef"
            ],
            [
             0.5,
             "#f7f7f7"
            ],
            [
             0.6,
             "#e6f5d0"
            ],
            [
             0.7,
             "#b8e186"
            ],
            [
             0.8,
             "#7fbc41"
            ],
            [
             0.9,
             "#4d9221"
            ],
            [
             1,
             "#276419"
            ]
           ],
           "sequential": [
            [
             0,
             "#0d0887"
            ],
            [
             0.1111111111111111,
             "#46039f"
            ],
            [
             0.2222222222222222,
             "#7201a8"
            ],
            [
             0.3333333333333333,
             "#9c179e"
            ],
            [
             0.4444444444444444,
             "#bd3786"
            ],
            [
             0.5555555555555556,
             "#d8576b"
            ],
            [
             0.6666666666666666,
             "#ed7953"
            ],
            [
             0.7777777777777778,
             "#fb9f3a"
            ],
            [
             0.8888888888888888,
             "#fdca26"
            ],
            [
             1,
             "#f0f921"
            ]
           ],
           "sequentialminus": [
            [
             0,
             "#0d0887"
            ],
            [
             0.1111111111111111,
             "#46039f"
            ],
            [
             0.2222222222222222,
             "#7201a8"
            ],
            [
             0.3333333333333333,
             "#9c179e"
            ],
            [
             0.4444444444444444,
             "#bd3786"
            ],
            [
             0.5555555555555556,
             "#d8576b"
            ],
            [
             0.6666666666666666,
             "#ed7953"
            ],
            [
             0.7777777777777778,
             "#fb9f3a"
            ],
            [
             0.8888888888888888,
             "#fdca26"
            ],
            [
             1,
             "#f0f921"
            ]
           ]
          },
          "colorway": [
           "#636efa",
           "#EF553B",
           "#00cc96",
           "#ab63fa",
           "#FFA15A",
           "#19d3f3",
           "#FF6692",
           "#B6E880",
           "#FF97FF",
           "#FECB52"
          ],
          "font": {
           "color": "#2a3f5f"
          },
          "geo": {
           "bgcolor": "white",
           "lakecolor": "white",
           "landcolor": "#E5ECF6",
           "showlakes": true,
           "showland": true,
           "subunitcolor": "white"
          },
          "hoverlabel": {
           "align": "left"
          },
          "hovermode": "closest",
          "mapbox": {
           "style": "light"
          },
          "paper_bgcolor": "white",
          "plot_bgcolor": "#E5ECF6",
          "polar": {
           "angularaxis": {
            "gridcolor": "white",
            "linecolor": "white",
            "ticks": ""
           },
           "bgcolor": "#E5ECF6",
           "radialaxis": {
            "gridcolor": "white",
            "linecolor": "white",
            "ticks": ""
           }
          },
          "scene": {
           "xaxis": {
            "backgroundcolor": "#E5ECF6",
            "gridcolor": "white",
            "gridwidth": 2,
            "linecolor": "white",
            "showbackground": true,
            "ticks": "",
            "zerolinecolor": "white"
           },
           "yaxis": {
            "backgroundcolor": "#E5ECF6",
            "gridcolor": "white",
            "gridwidth": 2,
            "linecolor": "white",
            "showbackground": true,
            "ticks": "",
            "zerolinecolor": "white"
           },
           "zaxis": {
            "backgroundcolor": "#E5ECF6",
            "gridcolor": "white",
            "gridwidth": 2,
            "linecolor": "white",
            "showbackground": true,
            "ticks": "",
            "zerolinecolor": "white"
           }
          },
          "shapedefaults": {
           "line": {
            "color": "#2a3f5f"
           }
          },
          "ternary": {
           "aaxis": {
            "gridcolor": "white",
            "linecolor": "white",
            "ticks": ""
           },
           "baxis": {
            "gridcolor": "white",
            "linecolor": "white",
            "ticks": ""
           },
           "bgcolor": "#E5ECF6",
           "caxis": {
            "gridcolor": "white",
            "linecolor": "white",
            "ticks": ""
           }
          },
          "title": {
           "x": 0.05
          },
          "xaxis": {
           "automargin": true,
           "gridcolor": "white",
           "linecolor": "white",
           "ticks": "",
           "title": {
            "standoff": 15
           },
           "zerolinecolor": "white",
           "zerolinewidth": 2
          },
          "yaxis": {
           "automargin": true,
           "gridcolor": "white",
           "linecolor": "white",
           "ticks": "",
           "title": {
            "standoff": 15
           },
           "zerolinecolor": "white",
           "zerolinewidth": 2
          }
         }
        },
        "width": 1000,
        "xaxis": {
         "showgrid": false,
         "showticklabels": false,
         "zeroline": false
        },
        "yaxis": {
         "showgrid": false,
         "showticklabels": false,
         "zeroline": false
        }
       }
      }
     },
     "metadata": {},
     "output_type": "display_data"
    }
   ],
   "source": [
    "gsea_res = pd.read_csv(GSEA_DIR / f\"gsea_go_bp_top_terms_{COHORT}.csv\", index_col=0)\n",
    "de_res = pd.read_csv(DE_RESULTS_FILE, index_col=0)\n",
    "genes_df = pd.read_csv(RAW_DATA_DIR / \"genes.csv.gz\", index_col=0)\n",
    "\n",
    "fig = graph.gene_concept_network_plot(\n",
    "    gsea_res,\n",
    "    de_res,\n",
    "    genes_df,\n",
    "    color_metric=\"log2FoldChange\",\n",
    "    pvalue_threshold=0.01,\n",
    "    layout_seed=0,\n",
    "    color_seed=0,\n",
    ")\n",
    "pio.write_html(fig, str(FIGURES_DIR / f\"gene_concept_network_{COHORT}.html\"))"
   ]
  },
  {
   "cell_type": "code",
   "execution_count": null,
   "metadata": {},
   "outputs": [],
   "source": []
  }
 ],
 "metadata": {
  "kernelspec": {
   "display_name": "base",
   "language": "python",
   "name": "python3"
  },
  "language_info": {
   "codemirror_mode": {
    "name": "ipython",
    "version": 3
   },
   "file_extension": ".py",
   "mimetype": "text/x-python",
   "name": "python",
   "nbconvert_exporter": "python",
   "pygments_lexer": "ipython3",
   "version": "3.12.2"
  }
 },
 "nbformat": 4,
 "nbformat_minor": 2
}
