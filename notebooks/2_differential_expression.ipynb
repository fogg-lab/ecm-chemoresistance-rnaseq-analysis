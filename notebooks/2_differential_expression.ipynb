{
 "cells": [
  {
   "cell_type": "code",
   "execution_count": 1,
   "metadata": {},
   "outputs": [],
   "source": [
    "import shutil\n",
    "from pathlib import Path\n",
    "from rpy2 import robjects"
   ]
  },
  {
   "cell_type": "code",
   "execution_count": 3,
   "metadata": {},
   "outputs": [],
   "source": [
    "### Constants\n",
    "\n",
    "COHORT = \"CESC\"\n",
    "INTERIM_DATA_DIR = Path(\"../data/interim/TCGA\")\n",
    "COUNTS_FILE = INTERIM_DATA_DIR / f\"counts/{COHORT}.csv.gz\"\n",
    "if not COUNTS_FILE.exists():\n",
    "    raise FileNotFoundError(\n",
    "        f\"{COUNTS_FILE} does not exist. Run `0_preprocess_and_label.ipynb` first.\"\n",
    "    )\n",
    "COLDATA_FILE = INTERIM_DATA_DIR / f\"coldata/{COHORT}.csv\"\n",
    "assert COLDATA_FILE.exists()\n",
    "FIGURES_DIR = Path(\"../reports/figures\")\n",
    "assert FIGURES_DIR.exists()\n",
    "DE_DIR = INTERIM_DATA_DIR / \"de\"\n",
    "DE_DIR.mkdir(exist_ok=True, parents=True)"
   ]
  },
  {
   "cell_type": "code",
   "execution_count": 5,
   "metadata": {},
   "outputs": [
    {
     "name": "stderr",
     "output_type": "stream",
     "text": [
      "R[write to console]: factor levels were dropped which had no samples\n",
      "\n",
      "R[write to console]: estimating size factors\n",
      "\n",
      "R[write to console]: estimating dispersions\n",
      "\n",
      "R[write to console]: gene-wise dispersion estimates: 14 workers\n",
      "\n",
      "R[write to console]: mean-dispersion relationship\n",
      "\n",
      "R[write to console]: final dispersion estimates, fitting model and testing: 14 workers\n",
      "\n",
      "R[write to console]: -- replacing outliers and refitting for 380 genes\n",
      "-- DESeq argument 'minReplicatesForReplace' = 7 \n",
      "-- original counts are preserved in counts(dds)\n",
      "\n",
      "R[write to console]: estimating dispersions\n",
      "\n",
      "R[write to console]: fitting model and testing\n",
      "\n"
     ]
    },
    {
     "name": "stdout",
     "output_type": "stream",
     "text": [
      "Saved results to ../data/interim/TCGA/de/DE_results_CESC.csv \n"
     ]
    },
    {
     "data": {
      "text/plain": [
       "<rpy2.rinterface_lib.sexp.NULLType object at 0x7fc07c121fd0> [0]"
      ]
     },
     "execution_count": 5,
     "metadata": {},
     "output_type": "execute_result"
    }
   ],
   "source": [
    "robjects.r('suppressPackageStartupMessages(library(\"src\"))')\n",
    "dgea = robjects.r[\"de_analysis\"]\n",
    "counts_file = str(COUNTS_FILE)\n",
    "coldata_file = str(COLDATA_FILE)\n",
    "output_dir = str(DE_DIR)\n",
    "target = \"PT_resistant\"\n",
    "reference_level = \"No\"\n",
    "contrast_level = \"Yes\"\n",
    "covariates = [\"stage\", \"grade\"]\n",
    "dgea(counts_file, coldata_file, output_dir, target, reference_level, contrast_level, covariates)"
   ]
  },
  {
   "cell_type": "code",
   "execution_count": 6,
   "metadata": {},
   "outputs": [],
   "source": [
    "# Copy output_dir/*.png to FIGURES_DIR\n",
    "for png in DE_DIR.glob(\"*.png\"):\n",
    "    shutil.copy(png, FIGURES_DIR)"
   ]
  },
  {
   "cell_type": "code",
   "execution_count": null,
   "metadata": {},
   "outputs": [],
   "source": []
  }
 ],
 "metadata": {
  "kernelspec": {
   "display_name": "base",
   "language": "python",
   "name": "python3"
  },
  "language_info": {
   "codemirror_mode": {
    "name": "ipython",
    "version": 3
   },
   "file_extension": ".py",
   "mimetype": "text/x-python",
   "name": "python",
   "nbconvert_exporter": "python",
   "pygments_lexer": "ipython3",
   "version": "3.12.2"
  }
 },
 "nbformat": 4,
 "nbformat_minor": 2
}
