{
 "cells": [
  {
   "cell_type": "code",
   "execution_count": null,
   "metadata": {},
   "outputs": [],
   "source": [
    "from typing import Optional\n",
    "from pathlib import Path\n",
    "import pandas as pd\n",
    "import numpy as np\n",
    "from sklearn.decomposition import PCA\n",
    "import matplotlib.pyplot as plt\n",
    "import umap\n",
    "import plotly.graph_objects as go\n",
    "import plotly.express as px\n",
    "import plotly.io as pio\n",
    "\n",
    "from rpy2 import robjects\n",
    "from src.visualization import projection"
   ]
  },
  {
   "cell_type": "code",
   "execution_count": null,
   "metadata": {},
   "outputs": [],
   "source": [
    "### Constants\n",
    "\n",
    "COHORT = \"CESC\"\n",
    "INTERIM_DATA_DIR = Path(\"../data/interim/TCGA\")\n",
    "COUNTS_FILE = INTERIM_DATA_DIR / f\"counts/{COHORT}.csv.gz\"\n",
    "if not COUNTS_FILE.exists():\n",
    "    raise FileNotFoundError(\n",
    "        f\"{COUNTS_FILE} does not exist. Run `0_preprocess_and_label.ipynb` first.\"\n",
    "    )\n",
    "COLDATA_FILE = INTERIM_DATA_DIR / f\"coldata/{COHORT}.csv\"\n",
    "assert COLDATA_FILE.exists()\n",
    "FIGURES_DIR = Path(\"../reports/figures\")\n",
    "assert FIGURES_DIR.exists()\n",
    "VST_DIR = INTERIM_DATA_DIR / \"vst\"\n",
    "VST_DIR.mkdir(exist_ok=True, parents=True)"
   ]
  },
  {
   "cell_type": "markdown",
   "metadata": {},
   "source": [
    "## 1. Prep: Variance Stabilizing Transformation (VST)"
   ]
  },
  {
   "cell_type": "code",
   "execution_count": null,
   "metadata": {},
   "outputs": [],
   "source": [
    "robjects.r('suppressPackageStartupMessages(library(\"src\"))')\n",
    "vst_transform = robjects.r[\"vst_transform\"]\n",
    "design_formula_cols = [\"stage\", \"grade\"]\n",
    "vst_transform(str(COUNTS_FILE), str(COLDATA_FILE), str(VST_DIR), design_formula_cols)"
   ]
  },
  {
   "cell_type": "code",
   "execution_count": null,
   "metadata": {},
   "outputs": [],
   "source": [
    "vst_file = VST_DIR / f\"{COHORT}.csv.gz\"\n",
    "vst_expr = pd.read_csv(vst_file, index_col=0)"
   ]
  },
  {
   "cell_type": "markdown",
   "metadata": {},
   "source": [
    "## 2. Dimensionality Reduction: PCA and UMAP"
   ]
  },
  {
   "cell_type": "code",
   "execution_count": null,
   "metadata": {},
   "outputs": [],
   "source": [
    "# Plot explained variance\n",
    "projection.plot_explained_variance(vst_expr.T)"
   ]
  },
  {
   "cell_type": "code",
   "execution_count": null,
   "metadata": {},
   "outputs": [],
   "source": [
    "coldata = pd.read_csv(COLDATA_FILE, index_col=0)\n",
    "assert np.all(vst_expr.columns == coldata.index)\n",
    "\n",
    "n_components = 6\n",
    "n_umap_dims = 3\n",
    "\n",
    "pca = PCA(n_components=n_components)\n",
    "pca_expr = pca.fit_transform(vst_expr.T)\n",
    "pca_expr = pd.DataFrame(\n",
    "    pca_expr, index=vst_expr.columns, columns=[f\"PC-{i+1}\" for i in range(n_components)]\n",
    ")\n",
    "explained_variance = pca.explained_variance_ratio_\n",
    "# Add metadata\n",
    "pca_expr = pca_expr.join(coldata)\n",
    "pca_expr = pca_expr.loc[pca_expr[\"PT_resistant\"].isin((\"Yes\", \"No\"))]\n",
    "pca_expr[\"stage/grade\"] = pca_expr[\"stage\"].str.cat(pca_expr[\"grade\"], sep=\"/\")\n",
    "\n",
    "umap_model = umap.UMAP(n_components=n_umap_dims, random_state=1)\n",
    "umap_expr = umap_model.fit_transform(vst_expr.T)\n",
    "umap_expr = pd.DataFrame(\n",
    "    umap_expr,\n",
    "    index=vst_expr.columns,\n",
    "    columns=[f\"UMAP-{i+1}\" for i in range(n_umap_dims)],\n",
    ")\n",
    "# Add metadata\n",
    "umap_expr = umap_expr.join(coldata)\n",
    "umap_expr = umap_expr.loc[umap_expr[\"PT_resistant\"].isin((\"Yes\", \"No\"))]\n",
    "umap_expr[\"stage/grade\"] = umap_expr[\"stage\"].str.cat(umap_expr[\"grade\"], sep=\"/\")"
   ]
  },
  {
   "cell_type": "code",
   "execution_count": null,
   "metadata": {},
   "outputs": [],
   "source": [
    "pca_fig = projection.interactive_scatterplot(\n",
    "    pca_expr,\n",
    "    \"stage/grade\",\n",
    "    \"PT_resistant\",\n",
    "    n_components,\n",
    "    title=\"3D PCA (Drag to rotate, scroll to zoom, ctrl+drag to pan)\",\n",
    "    explained_variance=explained_variance,\n",
    ")\n",
    "pca_fig.write_html(FIGURES_DIR / f\"pca_{COHORT}.html\")"
   ]
  },
  {
   "cell_type": "code",
   "execution_count": null,
   "metadata": {},
   "outputs": [],
   "source": [
    "umap_fig = projection.interactive_scatterplot(\n",
    "    umap_expr, \"stage/grade\", \"PT_resistant\", n_umap_dims, title=\"3D UMAP\"\n",
    ")\n",
    "umap_fig.write_html(FIGURES_DIR / f\"umap_{COHORT}.html\")"
   ]
  },
  {
   "cell_type": "code",
   "execution_count": null,
   "metadata": {},
   "outputs": [],
   "source": []
  }
 ],
 "metadata": {
  "kernelspec": {
   "display_name": "base",
   "language": "python",
   "name": "python3"
  },
  "language_info": {
   "codemirror_mode": {
    "name": "ipython",
    "version": 3
   },
   "file_extension": ".py",
   "mimetype": "text/x-python",
   "name": "python",
   "nbconvert_exporter": "python",
   "pygments_lexer": "ipython3",
   "version": "3.12.2"
  }
 },
 "nbformat": 4,
 "nbformat_minor": 2
}
